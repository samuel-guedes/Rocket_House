{
 "cells": [
  {
   "cell_type": "markdown",
   "id": "873cd62c",
   "metadata": {},
   "source": [
    "# House Rocket"
   ]
  },
  {
   "cell_type": "markdown",
   "id": "79ca114e",
   "metadata": {},
   "source": [
    "A House Rocket é uma empresa fictícia que tem como seu modelo de negócio a compra e venda de imóveis através de uma plataforma online. Desta forma, a melhor maneira de potencializar os ganhos da empresa é identificar, dentre tantas ofertas, os imóveis com maior potencial de lucro entre compra e venda.\n",
    "Neste cenário, me posiciono como Cientista de Dados para criar soluções de dados que auxiliam o CEO da House Rocket a indentificar as melhores opções no mercado.Para isso, foi disponibilizado o banco de dados da empresa para responder os questionamentos do CEO.\n",
    "\n",
    "Dados públicos disponíveis na plataforma <b>kaggle</b> através do link: https://www.kaggle.com/datasets/harlfoxem/housesalesprediction"
   ]
  },
  {
   "cell_type": "markdown",
   "id": "94b640a0",
   "metadata": {
    "heading_collapsed": true
   },
   "source": [
    "## 1. Perguntas do CEO"
   ]
  },
  {
   "cell_type": "markdown",
   "id": "c2ed5766",
   "metadata": {
    "hidden": true
   },
   "source": [
    "1. Quantas casas estão disponíveis para compra?\n",
    "2. Quantos atributos as casas possuem?\n",
    "3. Quais são estes atributos?\n",
    "4. Qual a casa mais cara do portfólio?\n",
    "5. Qual a casa com maior número de quartos?"
   ]
  },
  {
   "cell_type": "markdown",
   "id": "9db18271",
   "metadata": {},
   "source": [
    "## 2. Planejamento da Solução"
   ]
  },
  {
   "cell_type": "markdown",
   "id": "b06a7d59",
   "metadata": {},
   "source": [
    "### 2.1 Entrega"
   ]
  },
  {
   "cell_type": "markdown",
   "id": "cc4ffef0",
   "metadata": {},
   "source": [
    "<b>O que vou entregar?</b> Texto com perguntas e respostas"
   ]
  },
  {
   "cell_type": "markdown",
   "id": "b9d5fc85",
   "metadata": {},
   "source": [
    "### 2.2 Processo"
   ]
  },
  {
   "cell_type": "markdown",
   "id": "5460b97a",
   "metadata": {},
   "source": [
    ".<b>Identificar onde está a informação?</b><br>\n",
    "    Dados disponíveis através do link https://www.kaggle.com/datasets/harlfoxem/housesalesprediction\n",
    "\n",
    ".<b>Como coletar essas informações?</b><br>\n",
    "    Baixar o arquivo .csv com os dados para o estudo.\n",
    "\n",
    ".<b>Responder as perguntas.</b>\n",
    "    \n",
    "    Quantas casas estão disponíveis para compra?\n",
    "    Contar o número de linhas do conjunto de dados\n",
    "    \n",
    "    Quantos atributos as casas possuem?\n",
    "    Contar o número de colunas do conjunto de dados\n",
    "    \n",
    "    Quais são estes atributos?\n",
    "    Mostrar o nome das colunas\n",
    "    \n",
    "    Qual a casa mais cara do portfólio?\n",
    "    Ordernar as linhas pela coluna de preço\n",
    "    \n",
    "    Qual a casa com maior número de quartos?\n",
    "    Ordernar as linhas pela coluna número de quartos\n",
    "    \n",
    "    Qual a soma total de quatos do conjunto de dados?\n",
    "    Somar a coluna de número de quartos\n",
    "    \n",
    "    Quantas casas possuem 2 banheiros?\n",
    "    Filtrar coluna de quantidade de banheiros igual a dois e contar\n",
    "    \n",
    "    Qual o preço médio de todas as casas no conjunto de dados?\n",
    "    Calcular a média da coluna de preços\n",
    "    \n",
    "    Qual o preço médio das casas com 2 banheiros?\n",
    "    Filtrar coluna de quantidade de banheiros igual a dois e calcular a média da coluna preço\n",
    "    \n",
    "    Qual o preço mínimo entre as casas com 3 quartos?\n",
    "    Filtrar coluna de quantidade de quartos igual a três e calcular o mínimo da coluna preço\n",
    "\n",
    "    Quantas casas possuem mais de 300 metros quadrados na sala de estar?\n",
    "    Filtrar coluna living room maior que 300m2 e contar as linhas\n",
    "    \n",
    "    Quantas casas tem mais de 2 andares?\n",
    "    Filtrar coluna floors maior que dois e contar linhas\n",
    "    \n",
    "    Quantas casas tem vista para o mar?\n",
    "    Filtrar coluna waterfront e contar linhas    \n",
    "    \n",
    "    Das casas com vista para o mar, quantas tem 3 quartos?\n",
    "    Filtrar coluna waterfront, coluna bathrooms igual a 3 e contar linhas\n",
    "    \n",
    "    Das casas com mais de 300 metros quadrados de sala de estar,quantas tem mais de 2 banheiros?\n",
    "    Filtrar coluna sqft_living maior que 300, coluna bathrooms maior que 2 e contar linhas"
   ]
  },
  {
   "cell_type": "markdown",
   "id": "3699498c",
   "metadata": {},
   "source": [
    "## 3. Solução"
   ]
  },
  {
   "cell_type": "markdown",
   "id": "e4539ccb",
   "metadata": {},
   "source": [
    "### 3.1 Bibliotecas"
   ]
  },
  {
   "cell_type": "code",
   "execution_count": 1,
   "id": "13bcfae3",
   "metadata": {
    "cell_style": "center"
   },
   "outputs": [],
   "source": [
    "import pandas as pd"
   ]
  },
  {
   "cell_type": "markdown",
   "id": "e1feb142",
   "metadata": {},
   "source": [
    "### 3.2 Importando Dados"
   ]
  },
  {
   "cell_type": "code",
   "execution_count": 2,
   "id": "e548f485",
   "metadata": {},
   "outputs": [],
   "source": [
    "df_raw = pd.read_csv(\"kc_house_data.csv\")"
   ]
  },
  {
   "cell_type": "markdown",
   "id": "ac9ea1b8",
   "metadata": {
    "heading_collapsed": true
   },
   "source": [
    "### 3.3 Ciclo1 - Respondendo as perguntas "
   ]
  },
  {
   "cell_type": "code",
   "execution_count": 3,
   "id": "eb7ed108",
   "metadata": {
    "code_folding": [],
    "hidden": true
   },
   "outputs": [
    {
     "name": "stdout",
     "output_type": "stream",
     "text": [
      "Há 21613 imóveis disponíveis na base de dados\n"
     ]
    }
   ],
   "source": [
    "#Quantas casas estão disponíveis para compra?\n",
    "#Contar o número de linhas do conjunto de dados\n",
    "\n",
    "print(\"Há \" + str( len(df_raw) ) + \" imóveis disponíveis na base de dados\")"
   ]
  },
  {
   "cell_type": "code",
   "execution_count": 4,
   "id": "3f716356",
   "metadata": {
    "code_folding": [],
    "hidden": true
   },
   "outputs": [
    {
     "name": "stdout",
     "output_type": "stream",
     "text": [
      "Os imóveis têm 20 atributos.\n"
     ]
    }
   ],
   "source": [
    "#Quantos atributos as casas possuem?\n",
    "#Contar o número de colunas do conjunto de dados\n",
    "\n",
    "print(\"Os imóveis têm \" + str(df_raw.shape[1] - 1) + \" atributos.\")"
   ]
  },
  {
   "cell_type": "code",
   "execution_count": 5,
   "id": "3dddf7d1",
   "metadata": {
    "code_folding": [],
    "hidden": true
   },
   "outputs": [
    {
     "name": "stdout",
     "output_type": "stream",
     "text": [
      "Os atributos são: date, price, bedrooms, bathrooms, sqft_living, sqft_lot, floors, waterfront, view, condition, grade, sqft_above, sqft_basement, yr_built, yr_renovated, zipcode, lat, long, sqft_living15, sqft_lot15, \n"
     ]
    }
   ],
   "source": [
    "#Quais são estes atributos?\n",
    "#Mostrar o nome das colunas\n",
    "\n",
    "attributes = \"Os atributos são: \"\n",
    "for attr in df_raw.columns[1:]:\n",
    "    attributes = attributes + attr + \", \"\n",
    "\n",
    "    \n",
    "print(attributes)"
   ]
  },
  {
   "cell_type": "code",
   "execution_count": 6,
   "id": "e2909135",
   "metadata": {
    "code_folding": [],
    "hidden": true
   },
   "outputs": [
    {
     "name": "stdout",
     "output_type": "stream",
     "text": [
      "O ID do imóvel mais caro é: 6762700020\n"
     ]
    }
   ],
   "source": [
    "#Qual a casa mais cara do portfólio?\n",
    "#Ordernar as linhas pela coluna de preço\n",
    "\n",
    "house_id = str( int(df_raw[['id','price']].sort_values('price', ascending = False).iloc[0][0]) )\n",
    "print(\"O ID do imóvel mais caro é: \" + house_id)"
   ]
  },
  {
   "cell_type": "code",
   "execution_count": 7,
   "id": "625c7c12",
   "metadata": {
    "code_folding": [],
    "hidden": true
   },
   "outputs": [
    {
     "name": "stdout",
     "output_type": "stream",
     "text": [
      "O ID do imóvel com maior número de quartos é: 2402100895\n"
     ]
    }
   ],
   "source": [
    "#Qual a casa com maior número de quartos?\n",
    "#Ordernar as linhas pela coluna número de quartos\n",
    "\n",
    "house_id = str( int( df_raw[['id', 'bedrooms']].sort_values('bedrooms', ascending = False).iloc[0][0]) )\n",
    "print(\"O ID do imóvel com maior número de quartos é: \" + house_id )"
   ]
  },
  {
   "cell_type": "code",
   "execution_count": 8,
   "id": "d0a08ba7",
   "metadata": {
    "code_folding": [],
    "hidden": true
   },
   "outputs": [
    {
     "name": "stdout",
     "output_type": "stream",
     "text": [
      "O total de quartos no conjunto de dados é : 72854\n"
     ]
    }
   ],
   "source": [
    "#Qual a soma total de quatos do conjunto de dados?\n",
    "#Somar a coluna de número de quartos\n",
    "\n",
    "print(\"O total de quartos no conjunto de dados é : \" + str(df_raw['bedrooms'].sum()) )"
   ]
  },
  {
   "cell_type": "code",
   "execution_count": 9,
   "id": "0776344d",
   "metadata": {
    "code_folding": [],
    "hidden": true
   },
   "outputs": [
    {
     "name": "stdout",
     "output_type": "stream",
     "text": [
      "Há 1930 casas com 2 banheiros.\n"
     ]
    }
   ],
   "source": [
    "#Quantas casas possuem 2 banheiros?\n",
    "#Filtrar coluna de quantidade de banheiros igual a dois e contar \n",
    "\n",
    "print(\"Há \" + str(len(df_raw[df_raw['bathrooms'] == 2])) +\" casas com 2 banheiros.\")"
   ]
  },
  {
   "cell_type": "code",
   "execution_count": 10,
   "id": "56d3729a",
   "metadata": {
    "code_folding": [],
    "hidden": true
   },
   "outputs": [
    {
     "name": "stdout",
     "output_type": "stream",
     "text": [
      "O preço médio de todas as casas é 540088.14\n"
     ]
    }
   ],
   "source": [
    "#Qual o preço médio de todas as casas no conjunto de dados?\n",
    "#Calcular a média da coluna de preços\n",
    "\n",
    "mean = float(df_raw['price'].mean())\n",
    "print(f'O preço médio de todas as casas é {mean:.2f}')\n"
   ]
  },
  {
   "cell_type": "code",
   "execution_count": 11,
   "id": "16a0e7e5",
   "metadata": {
    "code_folding": [],
    "hidden": true
   },
   "outputs": [
    {
     "name": "stdout",
     "output_type": "stream",
     "text": [
      "O preço médio das casas com dois banheiros é  457889.72\n"
     ]
    }
   ],
   "source": [
    "#Qual o preço médio das casas com 2 banheiros?\n",
    "#Filtrar coluna de quantidade de banheiros igual a dois e calcular a média da coluna preço\n",
    "\n",
    "mean = df_raw[df_raw['bathrooms'] == 2]['price'].mean()\n",
    "print( f'O preço médio das casas com dois banheiros é {mean: .2f}')"
   ]
  },
  {
   "cell_type": "code",
   "execution_count": 12,
   "id": "9b43610f",
   "metadata": {
    "code_folding": [],
    "hidden": true
   },
   "outputs": [
    {
     "name": "stdout",
     "output_type": "stream",
     "text": [
      "O preço mínimo de casa com três quartos é  82000.00\n"
     ]
    }
   ],
   "source": [
    "#Qual o preço mínimo entre as casas com 3 quartos?\n",
    "#Filtrar coluna de quantidade de quartos igual a três e calcular o mínimo da coluna preço\n",
    "\n",
    "min_ = df_raw[df_raw['bedrooms'] == 3]['price'].min()\n",
    "print(f'O preço mínimo de casa com três quartos é {min_: .2f}')"
   ]
  },
  {
   "cell_type": "code",
   "execution_count": 13,
   "id": "244d8e74",
   "metadata": {
    "code_folding": [],
    "hidden": true
   },
   "outputs": [
    {
     "name": "stdout",
     "output_type": "stream",
     "text": [
      "Há 2258 casas com sala de estar maior que 300 sqft\n"
     ]
    }
   ],
   "source": [
    "#Quantas casas possuem mais de 300 metros quadrados na sala de estar?\n",
    "#Filtrar coluna living room maior que 300m2 e contar as linhas\n",
    "\n",
    "df_raw['m2_living'] = df_raw['sqft_living'] * 0.093\n",
    "\n",
    "print('Há ' + str( len( df_raw[df_raw['m2_living'] > 300] ) ) + ' casas com sala de estar maior que 300 sqft')"
   ]
  },
  {
   "cell_type": "code",
   "execution_count": 14,
   "id": "ad4e4c38",
   "metadata": {
    "code_folding": [],
    "hidden": true
   },
   "outputs": [
    {
     "name": "stdout",
     "output_type": "stream",
     "text": [
      "Há 782 casas com mais de 2 andares\n"
     ]
    }
   ],
   "source": [
    "#Quantas casas tem mais de 2 andares?\n",
    "#Filtrar coluna floors maior que dois e contar linhas\n",
    "\n",
    "print( 'Há ' + str(len(df_raw[df_raw['floors'] > 2])) + ' casas com mais de 2 andares')"
   ]
  },
  {
   "cell_type": "code",
   "execution_count": 15,
   "id": "a94a9679",
   "metadata": {
    "hidden": true
   },
   "outputs": [
    {
     "name": "stdout",
     "output_type": "stream",
     "text": [
      "Há 163 casas com vista para o mar\n"
     ]
    }
   ],
   "source": [
    "#Quantas casas tem vista para o mar?\n",
    "#Filtrar coluna waterfront e contar linhas\n",
    "\n",
    "print('Há ' + str(len(df_raw[df_raw['waterfront'] == 1])) + ' casas com vista para o mar')"
   ]
  },
  {
   "cell_type": "code",
   "execution_count": 16,
   "id": "b5ac6169",
   "metadata": {
    "hidden": true
   },
   "outputs": [
    {
     "name": "stdout",
     "output_type": "stream",
     "text": [
      "Há 64 casas com vista para o mar com três quartos\n"
     ]
    }
   ],
   "source": [
    "#Das casas com vista para o mar, quantas tem 3 quartos?\n",
    "#Filtrar coluna waterfront, coluna bathrooms igual a 3 e contar linhas\n",
    "\n",
    "houses = df_raw[ (df_raw['waterfront'] == 1) & (df_raw['bedrooms'] == 3 )]\n",
    "\n",
    "print('Há '+ str(len(houses)) + ' casas com vista para o mar com três quartos')"
   ]
  },
  {
   "cell_type": "code",
   "execution_count": 17,
   "id": "c81aa242",
   "metadata": {
    "hidden": true
   },
   "outputs": [
    {
     "name": "stdout",
     "output_type": "stream",
     "text": [
      "Há 2201 casas com sala de estar maior que 300 sqft e mais de 2 banheiros\n"
     ]
    }
   ],
   "source": [
    "#Das casas com mais de 300 metros quadrados de sala de estar,quantas tem mais de 2 banheiros?\n",
    "#Filtrar coluna sqft_living maior que 300, coluna bathrooms maior que 2 e contar linhas\n",
    "\n",
    "houses = df_raw[ (df_raw['m2_living'] > 300) & (df_raw['bathrooms'] > 2)]\n",
    "\n",
    "print('Há ' + str(len(houses)) + ' casas com sala de estar maior que 300 sqft e mais de 2 banheiros')"
   ]
  },
  {
   "cell_type": "markdown",
   "id": "12baf610",
   "metadata": {},
   "source": [
    "### 3.4 Ciclo 2 - Novos desafios"
   ]
  },
  {
   "cell_type": "markdown",
   "id": "de8c8841",
   "metadata": {
    "heading_collapsed": true
   },
   "source": [
    "#### 3.4.1 Questionamentos"
   ]
  },
  {
   "cell_type": "markdown",
   "id": "c82e4fdf",
   "metadata": {
    "hidden": true
   },
   "source": [
    "    1. Qual a data do imóvel mais antigo no portfólio?\n",
    "    2. Quantos imóveis possuem o número máximo de andares?\n",
    "    3. Criar uma classificação para os imóveis, separando-os entre baixo e alto padrão de acordo com o preço:\n",
    "        Alto padrão: preço > R$540.000\n",
    "        Baixo padrão: preço < R$540.000\n",
    "        \n",
    "    4. Criar um relatório ordenado pelo preço e contendo as seguintes informações:\n",
    "        id do imóvel, data que o imóvel entrou no portfólio, número de quartos, tamanho total do terreno, preço e \n",
    "        classificação do imóvel\n",
    "    5. Criar um mapa indicando a localização dos imóveis."
   ]
  },
  {
   "cell_type": "markdown",
   "id": "f6c6a536",
   "metadata": {},
   "source": [
    "#### 3.4.2 Planejamento"
   ]
  },
  {
   "cell_type": "markdown",
   "id": "0b6041c1",
   "metadata": {},
   "source": [
    "1. Produto final: Email respondendo as perguntas com dois anexos (relatório em .csv e imagem de um mapa em html)\n",
    "\n",
    "2. Ferramentas: Python e Jupyter Notebook\n",
    "\n",
    "3. Processo:\n",
    "    1. Qual a data do imóvel mais antigo no portfólio?\n",
    "       Ordernar o set de dados por data\n",
    "    \n",
    "    2. Quantos imóveis possuem o número máximo de andares?\n",
    "       Identificar o maior número de andares e filtrar os imóveis com esta quantidade\n",
    "     \n",
    "    3. Criar uma classificação para os imóveis, separando-os entre baixo e alto padrão de acordo com o preço:\n",
    "    \n",
    "        Alto padrão: preço > R$540.000\n",
    "        \n",
    "        Baixo padrão: preço < R$540.000\n",
    "            \n",
    "        Adicionar uma coluna de classificação adicionando o label Alto ou Baixo de acordo com o preço  \n",
    "\n",
    "\n",
    "    4. Criar um relatório ordenado pelo preço e contendo as seguintes informações:\n",
    "        id do imóvel, data que o imóvel entrou no portfólio, número de quartos, tamanho total do terreno, preço e \n",
    "        classificação do imóvel\n",
    "       Criar um dataframe com as colunas solicitadas e exportar para .csv \n",
    "        \n",
    "    5. Criar um mapa indicando a localização dos imóveis.\n",
    "       Utilizar biblioteca para desenhar o mapa e adicionar os imóveis"
   ]
  },
  {
   "cell_type": "markdown",
   "id": "24f0874c",
   "metadata": {},
   "source": [
    "#### 3.4.3 Solução"
   ]
  },
  {
   "cell_type": "code",
   "execution_count": 24,
   "id": "c109c37d",
   "metadata": {},
   "outputs": [],
   "source": [
    "#Qual a data do imóvel mais antigo no portfólio?\n",
    "#Ordernar o set de dados por data\n",
    "\n",
    "df_raw['date'] = df_raw['date'].astype({'date':'datetime64[ns]'})\n"
   ]
  },
  {
   "cell_type": "code",
   "execution_count": 25,
   "id": "9740525c",
   "metadata": {},
   "outputs": [
    {
     "data": {
      "text/plain": [
       "id                        int64\n",
       "date             datetime64[ns]\n",
       "price                   float64\n",
       "bedrooms                  int64\n",
       "bathrooms               float64\n",
       "sqft_living               int64\n",
       "sqft_lot                  int64\n",
       "floors                  float64\n",
       "waterfront                int64\n",
       "view                      int64\n",
       "condition                 int64\n",
       "grade                     int64\n",
       "sqft_above                int64\n",
       "sqft_basement             int64\n",
       "yr_built                  int64\n",
       "yr_renovated              int64\n",
       "zipcode                   int64\n",
       "lat                     float64\n",
       "long                    float64\n",
       "sqft_living15             int64\n",
       "sqft_lot15                int64\n",
       "m2_living               float64\n",
       "dtype: object"
      ]
     },
     "execution_count": 25,
     "metadata": {},
     "output_type": "execute_result"
    }
   ],
   "source": [
    "df_raw.dtypes"
   ]
  },
  {
   "cell_type": "code",
   "execution_count": 26,
   "id": "6a5619ce",
   "metadata": {},
   "outputs": [
    {
     "data": {
      "text/html": [
       "<div>\n",
       "<style scoped>\n",
       "    .dataframe tbody tr th:only-of-type {\n",
       "        vertical-align: middle;\n",
       "    }\n",
       "\n",
       "    .dataframe tbody tr th {\n",
       "        vertical-align: top;\n",
       "    }\n",
       "\n",
       "    .dataframe thead th {\n",
       "        text-align: right;\n",
       "    }\n",
       "</style>\n",
       "<table border=\"1\" class=\"dataframe\">\n",
       "  <thead>\n",
       "    <tr style=\"text-align: right;\">\n",
       "      <th></th>\n",
       "      <th>id</th>\n",
       "      <th>date</th>\n",
       "      <th>price</th>\n",
       "      <th>bedrooms</th>\n",
       "      <th>bathrooms</th>\n",
       "      <th>sqft_living</th>\n",
       "      <th>sqft_lot</th>\n",
       "      <th>floors</th>\n",
       "      <th>waterfront</th>\n",
       "      <th>view</th>\n",
       "      <th>...</th>\n",
       "      <th>sqft_above</th>\n",
       "      <th>sqft_basement</th>\n",
       "      <th>yr_built</th>\n",
       "      <th>yr_renovated</th>\n",
       "      <th>zipcode</th>\n",
       "      <th>lat</th>\n",
       "      <th>long</th>\n",
       "      <th>sqft_living15</th>\n",
       "      <th>sqft_lot15</th>\n",
       "      <th>m2_living</th>\n",
       "    </tr>\n",
       "  </thead>\n",
       "  <tbody>\n",
       "    <tr>\n",
       "      <th>0</th>\n",
       "      <td>7129300520</td>\n",
       "      <td>2014-10-13</td>\n",
       "      <td>221900.0</td>\n",
       "      <td>3</td>\n",
       "      <td>1.00</td>\n",
       "      <td>1180</td>\n",
       "      <td>5650</td>\n",
       "      <td>1.0</td>\n",
       "      <td>0</td>\n",
       "      <td>0</td>\n",
       "      <td>...</td>\n",
       "      <td>1180</td>\n",
       "      <td>0</td>\n",
       "      <td>1955</td>\n",
       "      <td>0</td>\n",
       "      <td>98178</td>\n",
       "      <td>47.5112</td>\n",
       "      <td>-122.257</td>\n",
       "      <td>1340</td>\n",
       "      <td>5650</td>\n",
       "      <td>109.74</td>\n",
       "    </tr>\n",
       "    <tr>\n",
       "      <th>1</th>\n",
       "      <td>6414100192</td>\n",
       "      <td>2014-12-09</td>\n",
       "      <td>538000.0</td>\n",
       "      <td>3</td>\n",
       "      <td>2.25</td>\n",
       "      <td>2570</td>\n",
       "      <td>7242</td>\n",
       "      <td>2.0</td>\n",
       "      <td>0</td>\n",
       "      <td>0</td>\n",
       "      <td>...</td>\n",
       "      <td>2170</td>\n",
       "      <td>400</td>\n",
       "      <td>1951</td>\n",
       "      <td>1991</td>\n",
       "      <td>98125</td>\n",
       "      <td>47.7210</td>\n",
       "      <td>-122.319</td>\n",
       "      <td>1690</td>\n",
       "      <td>7639</td>\n",
       "      <td>239.01</td>\n",
       "    </tr>\n",
       "    <tr>\n",
       "      <th>2</th>\n",
       "      <td>5631500400</td>\n",
       "      <td>2015-02-25</td>\n",
       "      <td>180000.0</td>\n",
       "      <td>2</td>\n",
       "      <td>1.00</td>\n",
       "      <td>770</td>\n",
       "      <td>10000</td>\n",
       "      <td>1.0</td>\n",
       "      <td>0</td>\n",
       "      <td>0</td>\n",
       "      <td>...</td>\n",
       "      <td>770</td>\n",
       "      <td>0</td>\n",
       "      <td>1933</td>\n",
       "      <td>0</td>\n",
       "      <td>98028</td>\n",
       "      <td>47.7379</td>\n",
       "      <td>-122.233</td>\n",
       "      <td>2720</td>\n",
       "      <td>8062</td>\n",
       "      <td>71.61</td>\n",
       "    </tr>\n",
       "    <tr>\n",
       "      <th>3</th>\n",
       "      <td>2487200875</td>\n",
       "      <td>2014-12-09</td>\n",
       "      <td>604000.0</td>\n",
       "      <td>4</td>\n",
       "      <td>3.00</td>\n",
       "      <td>1960</td>\n",
       "      <td>5000</td>\n",
       "      <td>1.0</td>\n",
       "      <td>0</td>\n",
       "      <td>0</td>\n",
       "      <td>...</td>\n",
       "      <td>1050</td>\n",
       "      <td>910</td>\n",
       "      <td>1965</td>\n",
       "      <td>0</td>\n",
       "      <td>98136</td>\n",
       "      <td>47.5208</td>\n",
       "      <td>-122.393</td>\n",
       "      <td>1360</td>\n",
       "      <td>5000</td>\n",
       "      <td>182.28</td>\n",
       "    </tr>\n",
       "    <tr>\n",
       "      <th>4</th>\n",
       "      <td>1954400510</td>\n",
       "      <td>2015-02-18</td>\n",
       "      <td>510000.0</td>\n",
       "      <td>3</td>\n",
       "      <td>2.00</td>\n",
       "      <td>1680</td>\n",
       "      <td>8080</td>\n",
       "      <td>1.0</td>\n",
       "      <td>0</td>\n",
       "      <td>0</td>\n",
       "      <td>...</td>\n",
       "      <td>1680</td>\n",
       "      <td>0</td>\n",
       "      <td>1987</td>\n",
       "      <td>0</td>\n",
       "      <td>98074</td>\n",
       "      <td>47.6168</td>\n",
       "      <td>-122.045</td>\n",
       "      <td>1800</td>\n",
       "      <td>7503</td>\n",
       "      <td>156.24</td>\n",
       "    </tr>\n",
       "  </tbody>\n",
       "</table>\n",
       "<p>5 rows × 22 columns</p>\n",
       "</div>"
      ],
      "text/plain": [
       "           id       date     price  bedrooms  bathrooms  sqft_living  \\\n",
       "0  7129300520 2014-10-13  221900.0         3       1.00         1180   \n",
       "1  6414100192 2014-12-09  538000.0         3       2.25         2570   \n",
       "2  5631500400 2015-02-25  180000.0         2       1.00          770   \n",
       "3  2487200875 2014-12-09  604000.0         4       3.00         1960   \n",
       "4  1954400510 2015-02-18  510000.0         3       2.00         1680   \n",
       "\n",
       "   sqft_lot  floors  waterfront  view  ...  sqft_above  sqft_basement  \\\n",
       "0      5650     1.0           0     0  ...        1180              0   \n",
       "1      7242     2.0           0     0  ...        2170            400   \n",
       "2     10000     1.0           0     0  ...         770              0   \n",
       "3      5000     1.0           0     0  ...        1050            910   \n",
       "4      8080     1.0           0     0  ...        1680              0   \n",
       "\n",
       "   yr_built  yr_renovated  zipcode      lat     long  sqft_living15  \\\n",
       "0      1955             0    98178  47.5112 -122.257           1340   \n",
       "1      1951          1991    98125  47.7210 -122.319           1690   \n",
       "2      1933             0    98028  47.7379 -122.233           2720   \n",
       "3      1965             0    98136  47.5208 -122.393           1360   \n",
       "4      1987             0    98074  47.6168 -122.045           1800   \n",
       "\n",
       "   sqft_lot15  m2_living  \n",
       "0        5650     109.74  \n",
       "1        7639     239.01  \n",
       "2        8062      71.61  \n",
       "3        5000     182.28  \n",
       "4        7503     156.24  \n",
       "\n",
       "[5 rows x 22 columns]"
      ]
     },
     "execution_count": 26,
     "metadata": {},
     "output_type": "execute_result"
    }
   ],
   "source": [
    "df_raw.head()\n"
   ]
  },
  {
   "cell_type": "code",
   "execution_count": null,
   "id": "9bab5955",
   "metadata": {},
   "outputs": [],
   "source": []
  },
  {
   "cell_type": "code",
   "execution_count": null,
   "id": "5b6bffc4",
   "metadata": {},
   "outputs": [],
   "source": []
  },
  {
   "cell_type": "code",
   "execution_count": null,
   "id": "d861c466",
   "metadata": {},
   "outputs": [],
   "source": []
  }
 ],
 "metadata": {
  "kernelspec": {
   "display_name": "Python 3 (ipykernel)",
   "language": "python",
   "name": "python3"
  },
  "language_info": {
   "codemirror_mode": {
    "name": "ipython",
    "version": 3
   },
   "file_extension": ".py",
   "mimetype": "text/x-python",
   "name": "python",
   "nbconvert_exporter": "python",
   "pygments_lexer": "ipython3",
   "version": "3.10.4"
  }
 },
 "nbformat": 4,
 "nbformat_minor": 5
}
