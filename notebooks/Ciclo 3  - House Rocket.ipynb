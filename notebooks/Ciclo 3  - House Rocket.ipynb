{
 "cells": [
  {
   "cell_type": "markdown",
   "id": "873cd62c",
   "metadata": {},
   "source": [
    "# House Rocket"
   ]
  },
  {
   "cell_type": "markdown",
   "id": "79ca114e",
   "metadata": {},
   "source": [
    "A House Rocket é uma empresa fictícia que tem como seu modelo de negócio a compra e venda de imóveis através de uma plataforma online. Desta forma, a melhor maneira de potencializar os ganhos da empresa é identificar, dentre tantas ofertas, os imóveis com maior potencial de lucro entre compra e venda.\n",
    "Neste cenário, me posiciono como Cientista de Dados para criar soluções de dados que auxiliam o CEO da House Rocket a indentificar as melhores opções no mercado.Para isso, foi disponibilizado o banco de dados da empresa para responder os questionamentos do CEO.\n",
    "\n",
    "Dados públicos disponíveis na plataforma <b>kaggle</b> através do link: https://www.kaggle.com/datasets/harlfoxem/housesalesprediction"
   ]
  },
  {
   "cell_type": "markdown",
   "id": "94b640a0",
   "metadata": {
    "heading_collapsed": true
   },
   "source": [
    "## 1. Perguntas do CEO"
   ]
  },
  {
   "cell_type": "markdown",
   "id": "c2ed5766",
   "metadata": {
    "hidden": true
   },
   "source": [
    "1. Quantas casas estão disponíveis para compra?\n",
    "2. Quantos atributos as casas possuem?\n",
    "3. Quais são estes atributos?\n",
    "4. Qual a casa mais cara do portfólio?\n",
    "5. Qual a casa com maior número de quartos?"
   ]
  },
  {
   "cell_type": "markdown",
   "id": "9db18271",
   "metadata": {
    "heading_collapsed": true
   },
   "source": [
    "## 2. Planejamento da Solução"
   ]
  },
  {
   "cell_type": "markdown",
   "id": "b06a7d59",
   "metadata": {
    "heading_collapsed": true,
    "hidden": true
   },
   "source": [
    "### 2.1 Entrega"
   ]
  },
  {
   "cell_type": "markdown",
   "id": "cc4ffef0",
   "metadata": {
    "hidden": true
   },
   "source": [
    "<b>O que vou entregar?</b> Texto com perguntas e respostas"
   ]
  },
  {
   "cell_type": "markdown",
   "id": "b9d5fc85",
   "metadata": {
    "heading_collapsed": true,
    "hidden": true
   },
   "source": [
    "### 2.2 Processo"
   ]
  },
  {
   "cell_type": "markdown",
   "id": "5460b97a",
   "metadata": {
    "hidden": true
   },
   "source": [
    ".<b>Identificar onde está a informação?</b><br>\n",
    "    Dados disponíveis através do link https://www.kaggle.com/datasets/harlfoxem/housesalesprediction\n",
    "\n",
    ".<b>Como coletar essas informações?</b><br>\n",
    "    Baixar o arquivo .csv com os dados para o estudo.\n",
    "\n",
    ".<b>Responder as perguntas.</b>\n",
    "    \n",
    "    Quantas casas estão disponíveis para compra?\n",
    "    Contar o número de linhas do conjunto de dados\n",
    "    \n",
    "    Quantos atributos as casas possuem?\n",
    "    Contar o número de colunas do conjunto de dados\n",
    "    \n",
    "    Quais são estes atributos?\n",
    "    Mostrar o nome das colunas\n",
    "    \n",
    "    Qual a casa mais cara do portfólio?\n",
    "    Ordernar as linhas pela coluna de preço\n",
    "    \n",
    "    Qual a casa com maior número de quartos?\n",
    "    Ordernar as linhas pela coluna número de quartos\n",
    "    \n",
    "    Qual a soma total de quatos do conjunto de dados?\n",
    "    Somar a coluna de número de quartos\n",
    "    \n",
    "    Quantas casas possuem 2 banheiros?\n",
    "    Filtrar coluna de quantidade de banheiros igual a dois e contar\n",
    "    \n",
    "    Qual o preço médio de todas as casas no conjunto de dados?\n",
    "    Calcular a média da coluna de preços\n",
    "    \n",
    "    Qual o preço médio das casas com 2 banheiros?\n",
    "    Filtrar coluna de quantidade de banheiros igual a dois e calcular a média da coluna preço\n",
    "    \n",
    "    Qual o preço mínimo entre as casas com 3 quartos?\n",
    "    Filtrar coluna de quantidade de quartos igual a três e calcular o mínimo da coluna preço\n",
    "\n",
    "    Quantas casas possuem mais de 300 metros quadrados na sala de estar?\n",
    "    Filtrar coluna living room maior que 300m2 e contar as linhas\n",
    "    \n",
    "    Quantas casas tem mais de 2 andares?\n",
    "    Filtrar coluna floors maior que dois e contar linhas\n",
    "    \n",
    "    Quantas casas tem vista para o mar?\n",
    "    Filtrar coluna waterfront e contar linhas    \n",
    "    \n",
    "    Das casas com vista para o mar, quantas tem 3 quartos?\n",
    "    Filtrar coluna waterfront, coluna bathrooms igual a 3 e contar linhas\n",
    "    \n",
    "    Das casas com mais de 300 metros quadrados de sala de estar,quantas tem mais de 2 banheiros?\n",
    "    Filtrar coluna sqft_living maior que 300, coluna bathrooms maior que 2 e contar linhas"
   ]
  },
  {
   "cell_type": "markdown",
   "id": "3699498c",
   "metadata": {},
   "source": [
    "## 3. Solução"
   ]
  },
  {
   "cell_type": "markdown",
   "id": "e4539ccb",
   "metadata": {},
   "source": [
    "### Bibliotecas"
   ]
  },
  {
   "cell_type": "code",
   "execution_count": 142,
   "id": "13bcfae3",
   "metadata": {
    "cell_style": "center"
   },
   "outputs": [],
   "source": [
    "import pandas as pd\n"
   ]
  },
  {
   "cell_type": "markdown",
   "id": "e1feb142",
   "metadata": {
    "heading_collapsed": true
   },
   "source": [
    "### Importando Dados"
   ]
  },
  {
   "cell_type": "code",
   "execution_count": 143,
   "id": "e548f485",
   "metadata": {
    "hidden": true
   },
   "outputs": [],
   "source": [
    "df_raw = pd.read_csv(\"kc_house_data.csv\")"
   ]
  },
  {
   "cell_type": "markdown",
   "id": "ac9ea1b8",
   "metadata": {
    "heading_collapsed": true
   },
   "source": [
    "### Ciclo1 - Respondendo as perguntas "
   ]
  },
  {
   "cell_type": "code",
   "execution_count": 144,
   "id": "eb7ed108",
   "metadata": {
    "code_folding": [],
    "hidden": true
   },
   "outputs": [
    {
     "name": "stdout",
     "output_type": "stream",
     "text": [
      "Há 21613 imóveis disponíveis na base de dados\n"
     ]
    }
   ],
   "source": [
    "#Quantas casas estão disponíveis para compra?\n",
    "#Contar o número de linhas do conjunto de dados\n",
    "\n",
    "print(\"Há \" + str( len(df_raw) ) + \" imóveis disponíveis na base de dados\")"
   ]
  },
  {
   "cell_type": "code",
   "execution_count": 145,
   "id": "3f716356",
   "metadata": {
    "code_folding": [],
    "hidden": true
   },
   "outputs": [
    {
     "name": "stdout",
     "output_type": "stream",
     "text": [
      "Os imóveis têm 20 atributos.\n"
     ]
    }
   ],
   "source": [
    "#Quantos atributos as casas possuem?\n",
    "#Contar o número de colunas do conjunto de dados\n",
    "\n",
    "print(\"Os imóveis têm \" + str(df_raw.shape[1] - 1) + \" atributos.\")"
   ]
  },
  {
   "cell_type": "code",
   "execution_count": 146,
   "id": "3dddf7d1",
   "metadata": {
    "code_folding": [],
    "hidden": true
   },
   "outputs": [
    {
     "name": "stdout",
     "output_type": "stream",
     "text": [
      "Os atributos são: date, price, bedrooms, bathrooms, sqft_living, sqft_lot, floors, waterfront, view, condition, grade, sqft_above, sqft_basement, yr_built, yr_renovated, zipcode, lat, long, sqft_living15, sqft_lot15, \n"
     ]
    }
   ],
   "source": [
    "#Quais são estes atributos?\n",
    "#Mostrar o nome das colunas\n",
    "\n",
    "attributes = \"Os atributos são: \"\n",
    "for attr in df_raw.columns[1:]:\n",
    "    attributes = attributes + attr + \", \"\n",
    "\n",
    "    \n",
    "print(attributes)"
   ]
  },
  {
   "cell_type": "code",
   "execution_count": 147,
   "id": "e2909135",
   "metadata": {
    "code_folding": [],
    "hidden": true
   },
   "outputs": [
    {
     "name": "stdout",
     "output_type": "stream",
     "text": [
      "O ID do imóvel mais caro é: 6762700020\n"
     ]
    }
   ],
   "source": [
    "#Qual a casa mais cara do portfólio?\n",
    "#Ordernar as linhas pela coluna de preço\n",
    "\n",
    "house_id = str( int(df_raw[['id','price']].sort_values('price', ascending = False).iloc[0][0]) )\n",
    "print(\"O ID do imóvel mais caro é: \" + house_id)"
   ]
  },
  {
   "cell_type": "code",
   "execution_count": 148,
   "id": "625c7c12",
   "metadata": {
    "code_folding": [],
    "hidden": true
   },
   "outputs": [
    {
     "name": "stdout",
     "output_type": "stream",
     "text": [
      "O ID do imóvel com maior número de quartos é: 2402100895\n"
     ]
    }
   ],
   "source": [
    "#Qual a casa com maior número de quartos?\n",
    "#Ordernar as linhas pela coluna número de quartos\n",
    "\n",
    "house_id = str( int( df_raw[['id', 'bedrooms']].sort_values('bedrooms', ascending = False).iloc[0][0]) )\n",
    "print(\"O ID do imóvel com maior número de quartos é: \" + house_id )"
   ]
  },
  {
   "cell_type": "code",
   "execution_count": 149,
   "id": "d0a08ba7",
   "metadata": {
    "code_folding": [],
    "hidden": true
   },
   "outputs": [
    {
     "name": "stdout",
     "output_type": "stream",
     "text": [
      "O total de quartos no conjunto de dados é : 72854\n"
     ]
    }
   ],
   "source": [
    "#Qual a soma total de quatos do conjunto de dados?\n",
    "#Somar a coluna de número de quartos\n",
    "\n",
    "print(\"O total de quartos no conjunto de dados é : \" + str(df_raw['bedrooms'].sum()) )"
   ]
  },
  {
   "cell_type": "code",
   "execution_count": 150,
   "id": "0776344d",
   "metadata": {
    "code_folding": [],
    "hidden": true
   },
   "outputs": [
    {
     "name": "stdout",
     "output_type": "stream",
     "text": [
      "Há 1930 casas com 2 banheiros.\n"
     ]
    }
   ],
   "source": [
    "#Quantas casas possuem 2 banheiros?\n",
    "#Filtrar coluna de quantidade de banheiros igual a dois e contar \n",
    "\n",
    "print(\"Há \" + str(len(df_raw[df_raw['bathrooms'] == 2])) +\" casas com 2 banheiros.\")"
   ]
  },
  {
   "cell_type": "code",
   "execution_count": 151,
   "id": "56d3729a",
   "metadata": {
    "code_folding": [],
    "hidden": true
   },
   "outputs": [
    {
     "name": "stdout",
     "output_type": "stream",
     "text": [
      "O preço médio de todas as casas é 540088.14\n"
     ]
    }
   ],
   "source": [
    "#Qual o preço médio de todas as casas no conjunto de dados?\n",
    "#Calcular a média da coluna de preços\n",
    "\n",
    "mean = float(df_raw['price'].mean())\n",
    "print(f'O preço médio de todas as casas é {mean:.2f}')\n"
   ]
  },
  {
   "cell_type": "code",
   "execution_count": 152,
   "id": "16a0e7e5",
   "metadata": {
    "code_folding": [],
    "hidden": true
   },
   "outputs": [
    {
     "name": "stdout",
     "output_type": "stream",
     "text": [
      "O preço médio das casas com dois banheiros é  457889.72\n"
     ]
    }
   ],
   "source": [
    "#Qual o preço médio das casas com 2 banheiros?\n",
    "#Filtrar coluna de quantidade de banheiros igual a dois e calcular a média da coluna preço\n",
    "\n",
    "mean = df_raw[df_raw['bathrooms'] == 2]['price'].mean()\n",
    "print( f'O preço médio das casas com dois banheiros é {mean: .2f}')"
   ]
  },
  {
   "cell_type": "code",
   "execution_count": 153,
   "id": "9b43610f",
   "metadata": {
    "code_folding": [],
    "hidden": true
   },
   "outputs": [
    {
     "name": "stdout",
     "output_type": "stream",
     "text": [
      "O preço mínimo de casa com três quartos é  82000.00\n"
     ]
    }
   ],
   "source": [
    "#Qual o preço mínimo entre as casas com 3 quartos?\n",
    "#Filtrar coluna de quantidade de quartos igual a três e calcular o mínimo da coluna preço\n",
    "\n",
    "min_ = df_raw[df_raw['bedrooms'] == 3]['price'].min()\n",
    "print(f'O preço mínimo de casa com três quartos é {min_: .2f}')"
   ]
  },
  {
   "cell_type": "code",
   "execution_count": 154,
   "id": "244d8e74",
   "metadata": {
    "code_folding": [],
    "hidden": true
   },
   "outputs": [
    {
     "name": "stdout",
     "output_type": "stream",
     "text": [
      "Há 2258 casas com sala de estar maior que 300 sqft\n"
     ]
    }
   ],
   "source": [
    "#Quantas casas possuem mais de 300 metros quadrados na sala de estar?\n",
    "#Filtrar coluna living room maior que 300m2 e contar as linhas\n",
    "\n",
    "df_raw['m2_living'] = df_raw['sqft_living'] * 0.093\n",
    "\n",
    "print('Há ' + str( len( df_raw[df_raw['m2_living'] > 300] ) ) + ' casas com sala de estar maior que 300 sqft')"
   ]
  },
  {
   "cell_type": "code",
   "execution_count": 155,
   "id": "ad4e4c38",
   "metadata": {
    "code_folding": [],
    "hidden": true
   },
   "outputs": [
    {
     "name": "stdout",
     "output_type": "stream",
     "text": [
      "Há 782 casas com mais de 2 andares\n"
     ]
    }
   ],
   "source": [
    "#Quantas casas tem mais de 2 andares?\n",
    "#Filtrar coluna floors maior que dois e contar linhas\n",
    "\n",
    "print( 'Há ' + str(len(df_raw[df_raw['floors'] > 2])) + ' casas com mais de 2 andares')"
   ]
  },
  {
   "cell_type": "code",
   "execution_count": 156,
   "id": "a94a9679",
   "metadata": {
    "hidden": true
   },
   "outputs": [
    {
     "name": "stdout",
     "output_type": "stream",
     "text": [
      "Há 163 casas com vista para o mar\n"
     ]
    }
   ],
   "source": [
    "#Quantas casas tem vista para o mar?\n",
    "#Filtrar coluna waterfront e contar linhas\n",
    "\n",
    "print('Há ' + str(len(df_raw[df_raw['waterfront'] == 1])) + ' casas com vista para o mar')"
   ]
  },
  {
   "cell_type": "code",
   "execution_count": 157,
   "id": "b5ac6169",
   "metadata": {
    "hidden": true
   },
   "outputs": [
    {
     "name": "stdout",
     "output_type": "stream",
     "text": [
      "Há 64 casas com vista para o mar com três quartos\n"
     ]
    }
   ],
   "source": [
    "#Das casas com vista para o mar, quantas tem 3 quartos?\n",
    "#Filtrar coluna waterfront, coluna bathrooms igual a 3 e contar linhas\n",
    "\n",
    "houses = df_raw[ (df_raw['waterfront'] == 1) & (df_raw['bedrooms'] == 3 )]\n",
    "\n",
    "print('Há '+ str(len(houses)) + ' casas com vista para o mar com três quartos')"
   ]
  },
  {
   "cell_type": "code",
   "execution_count": 158,
   "id": "c81aa242",
   "metadata": {
    "hidden": true
   },
   "outputs": [
    {
     "name": "stdout",
     "output_type": "stream",
     "text": [
      "Há 2201 casas com sala de estar maior que 300 sqft e mais de 2 banheiros\n"
     ]
    }
   ],
   "source": [
    "#Das casas com mais de 300 metros quadrados de sala de estar,quantas tem mais de 2 banheiros?\n",
    "#Filtrar coluna sqft_living maior que 300, coluna bathrooms maior que 2 e contar linhas\n",
    "\n",
    "houses = df_raw[ (df_raw['m2_living'] > 300) & (df_raw['bathrooms'] > 2)]\n",
    "\n",
    "print('Há ' + str(len(houses)) + ' casas com sala de estar maior que 300 sqft e mais de 2 banheiros')"
   ]
  },
  {
   "cell_type": "markdown",
   "id": "12baf610",
   "metadata": {},
   "source": [
    "### Ciclo 2 - Novos desafios"
   ]
  },
  {
   "cell_type": "markdown",
   "id": "de8c8841",
   "metadata": {
    "heading_collapsed": true
   },
   "source": [
    "#### 3.4.1 Questionamentos"
   ]
  },
  {
   "cell_type": "markdown",
   "id": "c82e4fdf",
   "metadata": {
    "hidden": true
   },
   "source": [
    "    1. Qual a data do imóvel mais antigo no portfólio?\n",
    "    2. Quantos imóveis possuem o número máximo de andares?\n",
    "    3. Criar uma classificação para os imóveis, separando-os entre baixo e alto padrão de acordo com o preço:\n",
    "        Alto padrão: preço > R$540.000\n",
    "        Baixo padrão: preço < R$540.000\n",
    "        \n",
    "    4. Criar um relatório ordenado pelo preço e contendo as seguintes informações:\n",
    "        id do imóvel, data que o imóvel entrou no portfólio, número de quartos, tamanho total do terreno, preço e \n",
    "        classificação do imóvel"
   ]
  },
  {
   "cell_type": "markdown",
   "id": "f6c6a536",
   "metadata": {
    "heading_collapsed": true
   },
   "source": [
    "#### 3.4.2 Planejamento"
   ]
  },
  {
   "cell_type": "markdown",
   "id": "0b6041c1",
   "metadata": {
    "hidden": true
   },
   "source": [
    "1. Produto final: Email respondendo as perguntas com dois anexos (relatório em .csv e imagem de um mapa em html)\n",
    "\n",
    "2. Ferramentas: Python e Jupyter Notebook\n",
    "\n",
    "3. Processo:\n",
    "    1. Qual a data do imóvel mais antigo no portfólio?\n",
    "       Ordernar o set de dados por data\n",
    "    \n",
    "    2. Quantos imóveis possuem o número máximo de andares?\n",
    "       Identificar o maior número de andares e filtrar os imóveis com esta quantidade\n",
    "     \n",
    "    3. Criar uma classificação para os imóveis, separando-os entre baixo e alto padrão de acordo com o preço:\n",
    "    \n",
    "        Alto padrão: preço > R$540.000\n",
    "        \n",
    "        Baixo padrão: preço < R$540.000\n",
    "            \n",
    "        Adicionar uma coluna de classificação adicionando o label Alto ou Baixo de acordo com o preço  \n",
    "\n",
    "\n",
    "    4. Criar um relatório ordenado pelo preço e contendo as seguintes informações:\n",
    "        id do imóvel, data que o imóvel entrou no portfólio, número de quartos, tamanho total do terreno, preço e \n",
    "        classificação do imóvel\n",
    "       Criar um dataframe com as colunas solicitadas e exportar para .csv \n",
    "        \n",
    "    5. Criar um mapa indicando a localização dos imóveis.\n",
    "       Utilizar biblioteca para desenhar o mapa e adicionar os imóveis"
   ]
  },
  {
   "cell_type": "markdown",
   "id": "24f0874c",
   "metadata": {},
   "source": [
    "#### 3.4.3 Solução"
   ]
  },
  {
   "cell_type": "code",
   "execution_count": 159,
   "id": "c109c37d",
   "metadata": {},
   "outputs": [
    {
     "name": "stdout",
     "output_type": "stream",
     "text": [
      "A data do imóvel mais antigo é 02/05/2014\n"
     ]
    }
   ],
   "source": [
    "#Qual a data do imóvel mais antigo no portfólio?\n",
    "#Ordernar o set de dados por data\n",
    "\n",
    "df_raw['date'] = df_raw['date'].astype({'date':'datetime64[ns]'})\n",
    "date = df_raw['date'].min().strftime('%d/%m/%Y')\n",
    "\n",
    "print('A data do imóvel mais antigo é '+date)"
   ]
  },
  {
   "cell_type": "code",
   "execution_count": 160,
   "id": "b10fcc29",
   "metadata": {},
   "outputs": [
    {
     "name": "stdout",
     "output_type": "stream",
     "text": [
      "Há 8 quartos com o número máximo de quartos de 3.5\n"
     ]
    }
   ],
   "source": [
    "#Quantos imóveis possuem o número máximo de andares? \n",
    "#Identificar o maior número de andares e filtrar os imóveis com esta quantidade\n",
    "\n",
    "max_floor = df_raw['floors'].max()\n",
    "num = len(df_raw[df_raw['floors'] == max_floor])\n",
    "\n",
    "print('Há ' + str(num) + ' quartos com o número máximo de quartos de ' + str(max_floor) )"
   ]
  },
  {
   "cell_type": "code",
   "execution_count": 161,
   "id": "6c618107",
   "metadata": {},
   "outputs": [],
   "source": [
    "#Criar uma classificação para os imóveis, separando-os entre baixo e alto padrão de acordo com o preço:\n",
    "   #Alto padrão: preço > R$540.000\n",
    "   #Baixo padrão: preço < R$540.000\n",
    "\n",
    "#Adicionar uma coluna de classificação adicionando o label Alto ou Baixo de acordo com o preço\n",
    "\n",
    "\n",
    "df_raw['level'] = df_raw['price'].apply(lambda x: 'high' if x > 540000 else 'low') "
   ]
  },
  {
   "cell_type": "code",
   "execution_count": 162,
   "id": "5d73f9c8",
   "metadata": {},
   "outputs": [],
   "source": [
    "#Criar um relatório ordenado pelo preço e contendo as seguintes informações:\n",
    "#    id do imóvel, data que o imóvel entrou no portfólio, número de quartos, tamanho total do terreno, preço e \n",
    "#   classificação do imóvel\n",
    "\n",
    "#Criar um dataframe com as colunas solicitadas e exportar para .csv\n",
    "\n",
    "report = df_raw[['id','date','bedrooms','sqft_lot','price','level']]\n",
    "report.to_csv('report.csv')"
   ]
  },
  {
   "cell_type": "markdown",
   "id": "1ef69d4d",
   "metadata": {},
   "source": [
    "### Ciclo 3 - Novos desafios"
   ]
  },
  {
   "cell_type": "code",
   "execution_count": 163,
   "id": "c5269641",
   "metadata": {},
   "outputs": [],
   "source": [
    "#Excluir as colunas 'sqft_living15' e 'sqft_lot15'\n",
    "\n",
    "df_raw.drop(['sqft_living15','sqft_lot15'], axis=1, inplace=True)"
   ]
  },
  {
   "cell_type": "code",
   "execution_count": 164,
   "id": "718d452b",
   "metadata": {},
   "outputs": [],
   "source": [
    "#Criar uma coluna 'house_age':\n",
    "#  date > 2014-01-01: 'new_house'\n",
    "#  date < 2014-01-01: 'old_house'\n",
    "\n",
    "df_raw['house_age'] = 'NA'\n",
    "\n",
    "df_raw.loc[df_raw['date'] > '2014-01-01', 'house_age'] = 'new_house'\n",
    "df_raw.loc[df_raw['date'] < '2014-01-01', 'house_age'] = 'old_house'"
   ]
  },
  {
   "cell_type": "code",
   "execution_count": 165,
   "id": "952bf8a4",
   "metadata": {},
   "outputs": [],
   "source": [
    "#Crie uma nova coluna chamada: “dormitory_type” \n",
    "#- Se o valor da coluna “bedrooms” for igual à 1 => ‘studio’\n",
    "#- Se o valor da coluna “bedrooms” for igual a 2 => ‘apartament’\n",
    "#- Se o valor da coluna “bedrooms” for maior que 2 => ‘house’\n",
    "\n",
    "df_raw['dormitory_type'] = 'NA'\n",
    "\n",
    "df_raw.loc[df_raw['bedrooms'] ==1, 'dormitory_type'] = 'studio'\n",
    "df_raw.loc[df_raw['bedrooms'] ==2, 'dormitory_type'] = 'apartament'\n",
    "df_raw.loc[df_raw['bedrooms'] >2, 'dormitory_type'] = 'house'"
   ]
  },
  {
   "cell_type": "code",
   "execution_count": 166,
   "id": "fcfd5a91",
   "metadata": {},
   "outputs": [],
   "source": [
    "# Crie uma nova coluna chamada: “condition_type”\n",
    "#- Se o valor da coluna “condition” for menor ou igual à 2 => ‘bad’\n",
    "#- Se o valor da coluna “condition” for igual à 3 ou 4 => ‘regular’\n",
    "#- Se o valor da coluna “condition” for igual à 5 => ‘good’\n",
    "\n",
    "df_raw['condition_type'] = df_raw['condition'].apply(lambda x: 'bad'if x<=2 \n",
    "                                                     else 'regular' if (x==3) \n",
    "                                                     or (x==4) else 'good')"
   ]
  },
  {
   "cell_type": "code",
   "execution_count": 171,
   "id": "d23095f7",
   "metadata": {},
   "outputs": [
    {
     "data": {
      "text/plain": [
       "id                         int64\n",
       "date              datetime64[ns]\n",
       "price                    float64\n",
       "bedrooms                   int64\n",
       "bathrooms                float64\n",
       "sqft_living                int64\n",
       "sqft_lot                   int64\n",
       "floors                   float64\n",
       "waterfront                 int64\n",
       "view                       int64\n",
       "condition                  int64\n",
       "grade                      int64\n",
       "sqft_above                 int64\n",
       "sqft_basement              int64\n",
       "yr_built          datetime64[ns]\n",
       "yr_renovated              object\n",
       "zipcode                    int64\n",
       "lat                      float64\n",
       "long                     float64\n",
       "m2_living                float64\n",
       "level                     object\n",
       "house_age                 object\n",
       "dormitory_type            object\n",
       "condition_type            object\n",
       "dtype: object"
      ]
     },
     "execution_count": 171,
     "metadata": {},
     "output_type": "execute_result"
    }
   ],
   "source": [
    "df_raw.dtypes"
   ]
  },
  {
   "cell_type": "code",
   "execution_count": 168,
   "id": "355a8564",
   "metadata": {},
   "outputs": [],
   "source": [
    "#Modifique o TIPO a Coluna “yr_built” para DATE\n",
    "#Modifique o TIPO a Coluna “yr_renovated” para DATE\n",
    "\n",
    "df_raw['yr_built'] = pd.to_datetime( df_raw['yr_built'], format = '%Y')\n",
    "df_raw['yr_renovated'] = df_raw['yr_renovated'].apply(lambda x: \n",
    "                        pd.to_datetime(x, format = '%Y')if x > 0 else x )"
   ]
  },
  {
   "cell_type": "code",
   "execution_count": 169,
   "id": "8674725a",
   "metadata": {},
   "outputs": [
    {
     "name": "stdout",
     "output_type": "stream",
     "text": [
      "A casa mais antiga é de 1900 anos\n"
     ]
    }
   ],
   "source": [
    "#Qual a data mais antiga de construção de um imóvel?\n",
    "\n",
    "min_date = df_raw['yr_built'].min().year\n",
    "print(\"A casa mais antiga é de {} anos\".format(min_date))"
   ]
  },
  {
   "cell_type": "code",
   "execution_count": 170,
   "id": "e92bb85e",
   "metadata": {},
   "outputs": [
    {
     "ename": "TypeError",
     "evalue": "'>' not supported between instances of 'Timestamp' and 'int'",
     "output_type": "error",
     "traceback": [
      "\u001b[0;31m---------------------------------------------------------------------------\u001b[0m",
      "\u001b[0;31mTypeError\u001b[0m                                 Traceback (most recent call last)",
      "Input \u001b[0;32mIn [170]\u001b[0m, in \u001b[0;36m<cell line: 2>\u001b[0;34m()\u001b[0m\n\u001b[1;32m      1\u001b[0m \u001b[38;5;66;03m#Qual a data mais antiga de renovação de um imóvel?\u001b[39;00m\n\u001b[0;32m----> 2\u001b[0m min_date \u001b[38;5;241m=\u001b[39m df_raw[\u001b[43mdf_raw\u001b[49m\u001b[43m[\u001b[49m\u001b[38;5;124;43m'\u001b[39;49m\u001b[38;5;124;43myr_renovated\u001b[39;49m\u001b[38;5;124;43m'\u001b[39;49m\u001b[43m]\u001b[49m\u001b[43m \u001b[49m\u001b[38;5;241;43m>\u001b[39;49m\u001b[43m \u001b[49m\u001b[38;5;241;43m0\u001b[39;49m][\u001b[38;5;124m'\u001b[39m\u001b[38;5;124myr_renovated\u001b[39m\u001b[38;5;124m'\u001b[39m]\n",
      "File \u001b[0;32m~/.pyenv/versions/3.10.4/envs/zero_ds/lib/python3.10/site-packages/pandas/core/ops/common.py:70\u001b[0m, in \u001b[0;36m_unpack_zerodim_and_defer.<locals>.new_method\u001b[0;34m(self, other)\u001b[0m\n\u001b[1;32m     66\u001b[0m             \u001b[38;5;28;01mreturn\u001b[39;00m \u001b[38;5;28mNotImplemented\u001b[39m\n\u001b[1;32m     68\u001b[0m other \u001b[38;5;241m=\u001b[39m item_from_zerodim(other)\n\u001b[0;32m---> 70\u001b[0m \u001b[38;5;28;01mreturn\u001b[39;00m \u001b[43mmethod\u001b[49m\u001b[43m(\u001b[49m\u001b[38;5;28;43mself\u001b[39;49m\u001b[43m,\u001b[49m\u001b[43m \u001b[49m\u001b[43mother\u001b[49m\u001b[43m)\u001b[49m\n",
      "File \u001b[0;32m~/.pyenv/versions/3.10.4/envs/zero_ds/lib/python3.10/site-packages/pandas/core/arraylike.py:56\u001b[0m, in \u001b[0;36mOpsMixin.__gt__\u001b[0;34m(self, other)\u001b[0m\n\u001b[1;32m     54\u001b[0m \u001b[38;5;129m@unpack_zerodim_and_defer\u001b[39m(\u001b[38;5;124m\"\u001b[39m\u001b[38;5;124m__gt__\u001b[39m\u001b[38;5;124m\"\u001b[39m)\n\u001b[1;32m     55\u001b[0m \u001b[38;5;28;01mdef\u001b[39;00m \u001b[38;5;21m__gt__\u001b[39m(\u001b[38;5;28mself\u001b[39m, other):\n\u001b[0;32m---> 56\u001b[0m     \u001b[38;5;28;01mreturn\u001b[39;00m \u001b[38;5;28;43mself\u001b[39;49m\u001b[38;5;241;43m.\u001b[39;49m\u001b[43m_cmp_method\u001b[49m\u001b[43m(\u001b[49m\u001b[43mother\u001b[49m\u001b[43m,\u001b[49m\u001b[43m \u001b[49m\u001b[43moperator\u001b[49m\u001b[38;5;241;43m.\u001b[39;49m\u001b[43mgt\u001b[49m\u001b[43m)\u001b[49m\n",
      "File \u001b[0;32m~/.pyenv/versions/3.10.4/envs/zero_ds/lib/python3.10/site-packages/pandas/core/series.py:5623\u001b[0m, in \u001b[0;36mSeries._cmp_method\u001b[0;34m(self, other, op)\u001b[0m\n\u001b[1;32m   5620\u001b[0m rvalues \u001b[38;5;241m=\u001b[39m extract_array(other, extract_numpy\u001b[38;5;241m=\u001b[39m\u001b[38;5;28;01mTrue\u001b[39;00m, extract_range\u001b[38;5;241m=\u001b[39m\u001b[38;5;28;01mTrue\u001b[39;00m)\n\u001b[1;32m   5622\u001b[0m \u001b[38;5;28;01mwith\u001b[39;00m np\u001b[38;5;241m.\u001b[39merrstate(\u001b[38;5;28mall\u001b[39m\u001b[38;5;241m=\u001b[39m\u001b[38;5;124m\"\u001b[39m\u001b[38;5;124mignore\u001b[39m\u001b[38;5;124m\"\u001b[39m):\n\u001b[0;32m-> 5623\u001b[0m     res_values \u001b[38;5;241m=\u001b[39m \u001b[43mops\u001b[49m\u001b[38;5;241;43m.\u001b[39;49m\u001b[43mcomparison_op\u001b[49m\u001b[43m(\u001b[49m\u001b[43mlvalues\u001b[49m\u001b[43m,\u001b[49m\u001b[43m \u001b[49m\u001b[43mrvalues\u001b[49m\u001b[43m,\u001b[49m\u001b[43m \u001b[49m\u001b[43mop\u001b[49m\u001b[43m)\u001b[49m\n\u001b[1;32m   5625\u001b[0m \u001b[38;5;28;01mreturn\u001b[39;00m \u001b[38;5;28mself\u001b[39m\u001b[38;5;241m.\u001b[39m_construct_result(res_values, name\u001b[38;5;241m=\u001b[39mres_name)\n",
      "File \u001b[0;32m~/.pyenv/versions/3.10.4/envs/zero_ds/lib/python3.10/site-packages/pandas/core/ops/array_ops.py:283\u001b[0m, in \u001b[0;36mcomparison_op\u001b[0;34m(left, right, op)\u001b[0m\n\u001b[1;32m    280\u001b[0m     \u001b[38;5;28;01mreturn\u001b[39;00m invalid_comparison(lvalues, rvalues, op)\n\u001b[1;32m    282\u001b[0m \u001b[38;5;28;01melif\u001b[39;00m is_object_dtype(lvalues\u001b[38;5;241m.\u001b[39mdtype) \u001b[38;5;129;01mor\u001b[39;00m \u001b[38;5;28misinstance\u001b[39m(rvalues, \u001b[38;5;28mstr\u001b[39m):\n\u001b[0;32m--> 283\u001b[0m     res_values \u001b[38;5;241m=\u001b[39m \u001b[43mcomp_method_OBJECT_ARRAY\u001b[49m\u001b[43m(\u001b[49m\u001b[43mop\u001b[49m\u001b[43m,\u001b[49m\u001b[43m \u001b[49m\u001b[43mlvalues\u001b[49m\u001b[43m,\u001b[49m\u001b[43m \u001b[49m\u001b[43mrvalues\u001b[49m\u001b[43m)\u001b[49m\n\u001b[1;32m    285\u001b[0m \u001b[38;5;28;01melse\u001b[39;00m:\n\u001b[1;32m    286\u001b[0m     res_values \u001b[38;5;241m=\u001b[39m _na_arithmetic_op(lvalues, rvalues, op, is_cmp\u001b[38;5;241m=\u001b[39m\u001b[38;5;28;01mTrue\u001b[39;00m)\n",
      "File \u001b[0;32m~/.pyenv/versions/3.10.4/envs/zero_ds/lib/python3.10/site-packages/pandas/core/ops/array_ops.py:73\u001b[0m, in \u001b[0;36mcomp_method_OBJECT_ARRAY\u001b[0;34m(op, x, y)\u001b[0m\n\u001b[1;32m     71\u001b[0m     result \u001b[38;5;241m=\u001b[39m libops\u001b[38;5;241m.\u001b[39mvec_compare(x\u001b[38;5;241m.\u001b[39mravel(), y\u001b[38;5;241m.\u001b[39mravel(), op)\n\u001b[1;32m     72\u001b[0m \u001b[38;5;28;01melse\u001b[39;00m:\n\u001b[0;32m---> 73\u001b[0m     result \u001b[38;5;241m=\u001b[39m \u001b[43mlibops\u001b[49m\u001b[38;5;241;43m.\u001b[39;49m\u001b[43mscalar_compare\u001b[49m\u001b[43m(\u001b[49m\u001b[43mx\u001b[49m\u001b[38;5;241;43m.\u001b[39;49m\u001b[43mravel\u001b[49m\u001b[43m(\u001b[49m\u001b[43m)\u001b[49m\u001b[43m,\u001b[49m\u001b[43m \u001b[49m\u001b[43my\u001b[49m\u001b[43m,\u001b[49m\u001b[43m \u001b[49m\u001b[43mop\u001b[49m\u001b[43m)\u001b[49m\n\u001b[1;32m     74\u001b[0m \u001b[38;5;28;01mreturn\u001b[39;00m result\u001b[38;5;241m.\u001b[39mreshape(x\u001b[38;5;241m.\u001b[39mshape)\n",
      "File \u001b[0;32m~/.pyenv/versions/3.10.4/envs/zero_ds/lib/python3.10/site-packages/pandas/_libs/ops.pyx:107\u001b[0m, in \u001b[0;36mpandas._libs.ops.scalar_compare\u001b[0;34m()\u001b[0m\n",
      "\u001b[0;31mTypeError\u001b[0m: '>' not supported between instances of 'Timestamp' and 'int'"
     ]
    }
   ],
   "source": [
    "#Qual a data mais antiga de renovação de um imóvel?\n",
    "min_date = df_raw[df_raw['yr_renovated'] > 0]['yr_renovated']"
   ]
  },
  {
   "cell_type": "code",
   "execution_count": null,
   "id": "2577bfe6",
   "metadata": {},
   "outputs": [],
   "source": [
    "#Quantos imóveis estão com a condição igual a “regular”?"
   ]
  },
  {
   "cell_type": "code",
   "execution_count": null,
   "id": "048f3bfb",
   "metadata": {},
   "outputs": [],
   "source": [
    "#Quantos imóveis estão com a condição igual a “bad”e possuem “vista para água”?"
   ]
  },
  {
   "cell_type": "code",
   "execution_count": null,
   "id": "80b9f128",
   "metadata": {},
   "outputs": [],
   "source": [
    "#Quantos imóveis estão com a condição igual a “good” e são “new_house”?"
   ]
  },
  {
   "cell_type": "code",
   "execution_count": null,
   "id": "5ce31362",
   "metadata": {},
   "outputs": [],
   "source": [
    "#Qual o valor do imóvel mais caro do tipo “studio”?"
   ]
  },
  {
   "cell_type": "code",
   "execution_count": null,
   "id": "a48ab9f8",
   "metadata": {},
   "outputs": [],
   "source": [
    "#Quantos imóveis do tipo “apartment” foram reformados em 2015 "
   ]
  },
  {
   "cell_type": "code",
   "execution_count": null,
   "id": "9f33d17c",
   "metadata": {},
   "outputs": [],
   "source": [
    "#Qual o maior número de quartos que um imóveis do tipo “house” possui?"
   ]
  },
  {
   "cell_type": "code",
   "execution_count": null,
   "id": "3d30d176",
   "metadata": {},
   "outputs": [],
   "source": [
    "#Quantos imóveis “new_house” foram reformados no ano de 2014?"
   ]
  },
  {
   "cell_type": "code",
   "execution_count": null,
   "id": "5577c2f7",
   "metadata": {},
   "outputs": [],
   "source": [
    "#Selecione as colunas: “id”, “date”, “price”, “floors”, “zipcode” pelo método:\n",
    "#   -- Direto pelo nome das colunas\n",
    "#   -- Pelos índices\n",
    "#   -- Pelos índices das linhas e o nome das colunas\n",
    "#   -- Índices Booleanos"
   ]
  },
  {
   "cell_type": "code",
   "execution_count": null,
   "id": "c6161cc2",
   "metadata": {},
   "outputs": [],
   "source": []
  },
  {
   "cell_type": "code",
   "execution_count": null,
   "id": "793abfbe",
   "metadata": {},
   "outputs": [],
   "source": []
  },
  {
   "cell_type": "code",
   "execution_count": null,
   "id": "43351c1e",
   "metadata": {},
   "outputs": [],
   "source": []
  },
  {
   "cell_type": "code",
   "execution_count": null,
   "id": "7fae4fd0",
   "metadata": {},
   "outputs": [],
   "source": []
  },
  {
   "cell_type": "code",
   "execution_count": null,
   "id": "eb799608",
   "metadata": {},
   "outputs": [],
   "source": []
  }
 ],
 "metadata": {
  "kernelspec": {
   "display_name": "Python 3 (ipykernel)",
   "language": "python",
   "name": "python3"
  },
  "language_info": {
   "codemirror_mode": {
    "name": "ipython",
    "version": 3
   },
   "file_extension": ".py",
   "mimetype": "text/x-python",
   "name": "python",
   "nbconvert_exporter": "python",
   "pygments_lexer": "ipython3",
   "version": "3.10.4"
  },
  "toc": {
   "base_numbering": 1,
   "nav_menu": {},
   "number_sections": true,
   "sideBar": true,
   "skip_h1_title": false,
   "title_cell": "Table of Contents",
   "title_sidebar": "Contents",
   "toc_cell": false,
   "toc_position": {
    "height": "calc(100% - 180px)",
    "left": "10px",
    "top": "150px",
    "width": "190px"
   },
   "toc_section_display": true,
   "toc_window_display": false
  }
 },
 "nbformat": 4,
 "nbformat_minor": 5
}
