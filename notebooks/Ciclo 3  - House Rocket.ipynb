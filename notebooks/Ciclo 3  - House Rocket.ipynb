{
 "cells": [
  {
   "cell_type": "markdown",
   "id": "873cd62c",
   "metadata": {},
   "source": [
    "# House Rocket"
   ]
  },
  {
   "cell_type": "markdown",
   "id": "79ca114e",
   "metadata": {},
   "source": [
    "A House Rocket é uma empresa fictícia que tem como seu modelo de negócio a compra e venda de imóveis através de uma plataforma online. Desta forma, a melhor maneira de potencializar os ganhos da empresa é identificar, dentre tantas ofertas, os imóveis com maior potencial de lucro entre compra e venda.\n",
    "Neste cenário, me posiciono como Cientista de Dados para criar soluções de dados que auxiliam o CEO da House Rocket a indentificar as melhores opções no mercado.Para isso, foi disponibilizado o banco de dados da empresa para responder os questionamentos do CEO.\n",
    "\n",
    "Dados públicos disponíveis na plataforma <b>kaggle</b> através do link: https://www.kaggle.com/datasets/harlfoxem/housesalesprediction"
   ]
  },
  {
   "cell_type": "markdown",
   "id": "94b640a0",
   "metadata": {
    "heading_collapsed": true
   },
   "source": [
    "## 1. Perguntas do CEO"
   ]
  },
  {
   "cell_type": "markdown",
   "id": "c2ed5766",
   "metadata": {
    "hidden": true
   },
   "source": [
    "1. Quantas casas estão disponíveis para compra?\n",
    "2. Quantos atributos as casas possuem?\n",
    "3. Quais são estes atributos?\n",
    "4. Qual a casa mais cara do portfólio?\n",
    "5. Qual a casa com maior número de quartos?"
   ]
  },
  {
   "cell_type": "markdown",
   "id": "9db18271",
   "metadata": {
    "heading_collapsed": true
   },
   "source": [
    "## 2. Planejamento da Solução"
   ]
  },
  {
   "cell_type": "markdown",
   "id": "b06a7d59",
   "metadata": {
    "heading_collapsed": true,
    "hidden": true
   },
   "source": [
    "### 2.1 Entrega"
   ]
  },
  {
   "cell_type": "markdown",
   "id": "cc4ffef0",
   "metadata": {
    "hidden": true
   },
   "source": [
    "<b>O que vou entregar?</b> Texto com perguntas e respostas"
   ]
  },
  {
   "cell_type": "markdown",
   "id": "b9d5fc85",
   "metadata": {
    "heading_collapsed": true,
    "hidden": true
   },
   "source": [
    "### 2.2 Processo"
   ]
  },
  {
   "cell_type": "markdown",
   "id": "5460b97a",
   "metadata": {
    "hidden": true
   },
   "source": [
    ".<b>Identificar onde está a informação?</b><br>\n",
    "    Dados disponíveis através do link https://www.kaggle.com/datasets/harlfoxem/housesalesprediction\n",
    "\n",
    ".<b>Como coletar essas informações?</b><br>\n",
    "    Baixar o arquivo .csv com os dados para o estudo.\n",
    "\n",
    ".<b>Responder as perguntas.</b>\n",
    "    \n",
    "    Quantas casas estão disponíveis para compra?\n",
    "    Contar o número de linhas do conjunto de dados\n",
    "    \n",
    "    Quantos atributos as casas possuem?\n",
    "    Contar o número de colunas do conjunto de dados\n",
    "    \n",
    "    Quais são estes atributos?\n",
    "    Mostrar o nome das colunas\n",
    "    \n",
    "    Qual a casa mais cara do portfólio?\n",
    "    Ordernar as linhas pela coluna de preço\n",
    "    \n",
    "    Qual a casa com maior número de quartos?\n",
    "    Ordernar as linhas pela coluna número de quartos\n",
    "    \n",
    "    Qual a soma total de quatos do conjunto de dados?\n",
    "    Somar a coluna de número de quartos\n",
    "    \n",
    "    Quantas casas possuem 2 banheiros?\n",
    "    Filtrar coluna de quantidade de banheiros igual a dois e contar\n",
    "    \n",
    "    Qual o preço médio de todas as casas no conjunto de dados?\n",
    "    Calcular a média da coluna de preços\n",
    "    \n",
    "    Qual o preço médio das casas com 2 banheiros?\n",
    "    Filtrar coluna de quantidade de banheiros igual a dois e calcular a média da coluna preço\n",
    "    \n",
    "    Qual o preço mínimo entre as casas com 3 quartos?\n",
    "    Filtrar coluna de quantidade de quartos igual a três e calcular o mínimo da coluna preço\n",
    "\n",
    "    Quantas casas possuem mais de 300 metros quadrados na sala de estar?\n",
    "    Filtrar coluna living room maior que 300m2 e contar as linhas\n",
    "    \n",
    "    Quantas casas tem mais de 2 andares?\n",
    "    Filtrar coluna floors maior que dois e contar linhas\n",
    "    \n",
    "    Quantas casas tem vista para o mar?\n",
    "    Filtrar coluna waterfront e contar linhas    \n",
    "    \n",
    "    Das casas com vista para o mar, quantas tem 3 quartos?\n",
    "    Filtrar coluna waterfront, coluna bathrooms igual a 3 e contar linhas\n",
    "    \n",
    "    Das casas com mais de 300 metros quadrados de sala de estar,quantas tem mais de 2 banheiros?\n",
    "    Filtrar coluna sqft_living maior que 300, coluna bathrooms maior que 2 e contar linhas"
   ]
  },
  {
   "cell_type": "markdown",
   "id": "3699498c",
   "metadata": {},
   "source": [
    "## 3. Solução"
   ]
  },
  {
   "cell_type": "markdown",
   "id": "e4539ccb",
   "metadata": {},
   "source": [
    "### Bibliotecas"
   ]
  },
  {
   "cell_type": "code",
   "execution_count": 1,
   "id": "13bcfae3",
   "metadata": {
    "cell_style": "center"
   },
   "outputs": [],
   "source": [
    "import pandas as pd"
   ]
  },
  {
   "cell_type": "markdown",
   "id": "e1feb142",
   "metadata": {},
   "source": [
    "### Importando Dados"
   ]
  },
  {
   "cell_type": "code",
   "execution_count": 2,
   "id": "e548f485",
   "metadata": {},
   "outputs": [],
   "source": [
    "df_raw = pd.read_csv(\"kc_house_data.csv\")"
   ]
  },
  {
   "cell_type": "markdown",
   "id": "ac9ea1b8",
   "metadata": {
    "heading_collapsed": true
   },
   "source": [
    "### Ciclo1 - Respondendo as perguntas "
   ]
  },
  {
   "cell_type": "code",
   "execution_count": 3,
   "id": "eb7ed108",
   "metadata": {
    "code_folding": [],
    "hidden": true
   },
   "outputs": [
    {
     "name": "stdout",
     "output_type": "stream",
     "text": [
      "Há 21613 imóveis disponíveis na base de dados\n"
     ]
    }
   ],
   "source": [
    "#Quantas casas estão disponíveis para compra?\n",
    "#Contar o número de linhas do conjunto de dados\n",
    "\n",
    "print(\"Há \" + str( len(df_raw) ) + \" imóveis disponíveis na base de dados\")"
   ]
  },
  {
   "cell_type": "code",
   "execution_count": 4,
   "id": "3f716356",
   "metadata": {
    "code_folding": [],
    "hidden": true
   },
   "outputs": [
    {
     "name": "stdout",
     "output_type": "stream",
     "text": [
      "Os imóveis têm 20 atributos.\n"
     ]
    }
   ],
   "source": [
    "#Quantos atributos as casas possuem?\n",
    "#Contar o número de colunas do conjunto de dados\n",
    "\n",
    "print(\"Os imóveis têm \" + str(df_raw.shape[1] - 1) + \" atributos.\")"
   ]
  },
  {
   "cell_type": "code",
   "execution_count": 5,
   "id": "3dddf7d1",
   "metadata": {
    "code_folding": [],
    "hidden": true
   },
   "outputs": [
    {
     "name": "stdout",
     "output_type": "stream",
     "text": [
      "Os atributos são: date, price, bedrooms, bathrooms, sqft_living, sqft_lot, floors, waterfront, view, condition, grade, sqft_above, sqft_basement, yr_built, yr_renovated, zipcode, lat, long, sqft_living15, sqft_lot15, \n"
     ]
    }
   ],
   "source": [
    "#Quais são estes atributos?\n",
    "#Mostrar o nome das colunas\n",
    "\n",
    "attributes = \"Os atributos são: \"\n",
    "for attr in df_raw.columns[1:]:\n",
    "    attributes = attributes + attr + \", \"\n",
    "\n",
    "    \n",
    "print(attributes)"
   ]
  },
  {
   "cell_type": "code",
   "execution_count": 6,
   "id": "e2909135",
   "metadata": {
    "code_folding": [],
    "hidden": true
   },
   "outputs": [
    {
     "name": "stdout",
     "output_type": "stream",
     "text": [
      "O ID do imóvel mais caro é: 6762700020\n"
     ]
    }
   ],
   "source": [
    "#Qual a casa mais cara do portfólio?\n",
    "#Ordernar as linhas pela coluna de preço\n",
    "\n",
    "house_id = str( int(df_raw[['id','price']].sort_values('price', ascending = False).iloc[0][0]) )\n",
    "print(\"O ID do imóvel mais caro é: \" + house_id)"
   ]
  },
  {
   "cell_type": "code",
   "execution_count": 7,
   "id": "625c7c12",
   "metadata": {
    "code_folding": [],
    "hidden": true
   },
   "outputs": [
    {
     "name": "stdout",
     "output_type": "stream",
     "text": [
      "O ID do imóvel com maior número de quartos é: 2402100895\n"
     ]
    }
   ],
   "source": [
    "#Qual a casa com maior número de quartos?\n",
    "#Ordernar as linhas pela coluna número de quartos\n",
    "\n",
    "house_id = str( int( df_raw[['id', 'bedrooms']].sort_values('bedrooms', ascending = False).iloc[0][0]) )\n",
    "print(\"O ID do imóvel com maior número de quartos é: \" + house_id )"
   ]
  },
  {
   "cell_type": "code",
   "execution_count": 8,
   "id": "d0a08ba7",
   "metadata": {
    "code_folding": [],
    "hidden": true
   },
   "outputs": [
    {
     "name": "stdout",
     "output_type": "stream",
     "text": [
      "O total de quartos no conjunto de dados é : 72854\n"
     ]
    }
   ],
   "source": [
    "#Qual a soma total de quatos do conjunto de dados?\n",
    "#Somar a coluna de número de quartos\n",
    "\n",
    "print(\"O total de quartos no conjunto de dados é : \" + str(df_raw['bedrooms'].sum()) )"
   ]
  },
  {
   "cell_type": "code",
   "execution_count": 9,
   "id": "0776344d",
   "metadata": {
    "code_folding": [],
    "hidden": true
   },
   "outputs": [
    {
     "name": "stdout",
     "output_type": "stream",
     "text": [
      "Há 1930 casas com 2 banheiros.\n"
     ]
    }
   ],
   "source": [
    "#Quantas casas possuem 2 banheiros?\n",
    "#Filtrar coluna de quantidade de banheiros igual a dois e contar \n",
    "\n",
    "print(\"Há \" + str(len(df_raw[df_raw['bathrooms'] == 2])) +\" casas com 2 banheiros.\")"
   ]
  },
  {
   "cell_type": "code",
   "execution_count": 10,
   "id": "56d3729a",
   "metadata": {
    "code_folding": [],
    "hidden": true
   },
   "outputs": [
    {
     "name": "stdout",
     "output_type": "stream",
     "text": [
      "O preço médio de todas as casas é 540088.14\n"
     ]
    }
   ],
   "source": [
    "#Qual o preço médio de todas as casas no conjunto de dados?\n",
    "#Calcular a média da coluna de preços\n",
    "\n",
    "mean = float(df_raw['price'].mean())\n",
    "print(f'O preço médio de todas as casas é {mean:.2f}')\n"
   ]
  },
  {
   "cell_type": "code",
   "execution_count": 11,
   "id": "16a0e7e5",
   "metadata": {
    "code_folding": [],
    "hidden": true
   },
   "outputs": [
    {
     "name": "stdout",
     "output_type": "stream",
     "text": [
      "O preço médio das casas com dois banheiros é  457889.72\n"
     ]
    }
   ],
   "source": [
    "#Qual o preço médio das casas com 2 banheiros?\n",
    "#Filtrar coluna de quantidade de banheiros igual a dois e calcular a média da coluna preço\n",
    "\n",
    "mean = df_raw[df_raw['bathrooms'] == 2]['price'].mean()\n",
    "print( f'O preço médio das casas com dois banheiros é {mean: .2f}')"
   ]
  },
  {
   "cell_type": "code",
   "execution_count": 12,
   "id": "9b43610f",
   "metadata": {
    "code_folding": [],
    "hidden": true
   },
   "outputs": [
    {
     "name": "stdout",
     "output_type": "stream",
     "text": [
      "O preço mínimo de casa com três quartos é  82000.00\n"
     ]
    }
   ],
   "source": [
    "#Qual o preço mínimo entre as casas com 3 quartos?\n",
    "#Filtrar coluna de quantidade de quartos igual a três e calcular o mínimo da coluna preço\n",
    "\n",
    "min_ = df_raw[df_raw['bedrooms'] == 3]['price'].min()\n",
    "print(f'O preço mínimo de casa com três quartos é {min_: .2f}')"
   ]
  },
  {
   "cell_type": "code",
   "execution_count": 13,
   "id": "244d8e74",
   "metadata": {
    "code_folding": [],
    "hidden": true
   },
   "outputs": [
    {
     "name": "stdout",
     "output_type": "stream",
     "text": [
      "Há 2258 casas com sala de estar maior que 300 sqft\n"
     ]
    }
   ],
   "source": [
    "#Quantas casas possuem mais de 300 metros quadrados na sala de estar?\n",
    "#Filtrar coluna living room maior que 300m2 e contar as linhas\n",
    "\n",
    "df_raw['m2_living'] = df_raw['sqft_living'] * 0.093\n",
    "\n",
    "print('Há ' + str( len( df_raw[df_raw['m2_living'] > 300] ) ) + ' casas com sala de estar maior que 300 sqft')"
   ]
  },
  {
   "cell_type": "code",
   "execution_count": 14,
   "id": "ad4e4c38",
   "metadata": {
    "code_folding": [],
    "hidden": true
   },
   "outputs": [
    {
     "name": "stdout",
     "output_type": "stream",
     "text": [
      "Há 782 casas com mais de 2 andares\n"
     ]
    }
   ],
   "source": [
    "#Quantas casas tem mais de 2 andares?\n",
    "#Filtrar coluna floors maior que dois e contar linhas\n",
    "\n",
    "print( 'Há ' + str(len(df_raw[df_raw['floors'] > 2])) + ' casas com mais de 2 andares')"
   ]
  },
  {
   "cell_type": "code",
   "execution_count": 15,
   "id": "a94a9679",
   "metadata": {
    "hidden": true
   },
   "outputs": [
    {
     "name": "stdout",
     "output_type": "stream",
     "text": [
      "Há 163 casas com vista para o mar\n"
     ]
    }
   ],
   "source": [
    "#Quantas casas tem vista para o mar?\n",
    "#Filtrar coluna waterfront e contar linhas\n",
    "\n",
    "print('Há ' + str(len(df_raw[df_raw['waterfront'] == 1])) + ' casas com vista para o mar')"
   ]
  },
  {
   "cell_type": "code",
   "execution_count": 16,
   "id": "b5ac6169",
   "metadata": {
    "hidden": true
   },
   "outputs": [
    {
     "name": "stdout",
     "output_type": "stream",
     "text": [
      "Há 64 casas com vista para o mar com três quartos\n"
     ]
    }
   ],
   "source": [
    "#Das casas com vista para o mar, quantas tem 3 quartos?\n",
    "#Filtrar coluna waterfront, coluna bathrooms igual a 3 e contar linhas\n",
    "\n",
    "houses = df_raw[ (df_raw['waterfront'] == 1) & (df_raw['bedrooms'] == 3 )]\n",
    "\n",
    "print('Há '+ str(len(houses)) + ' casas com vista para o mar com três quartos')"
   ]
  },
  {
   "cell_type": "code",
   "execution_count": 17,
   "id": "c81aa242",
   "metadata": {
    "hidden": true
   },
   "outputs": [
    {
     "name": "stdout",
     "output_type": "stream",
     "text": [
      "Há 2201 casas com sala de estar maior que 300 sqft e mais de 2 banheiros\n"
     ]
    }
   ],
   "source": [
    "#Das casas com mais de 300 metros quadrados de sala de estar,quantas tem mais de 2 banheiros?\n",
    "#Filtrar coluna sqft_living maior que 300, coluna bathrooms maior que 2 e contar linhas\n",
    "\n",
    "houses = df_raw[ (df_raw['m2_living'] > 300) & (df_raw['bathrooms'] > 2)]\n",
    "\n",
    "print('Há ' + str(len(houses)) + ' casas com sala de estar maior que 300 sqft e mais de 2 banheiros')"
   ]
  },
  {
   "cell_type": "markdown",
   "id": "12baf610",
   "metadata": {},
   "source": [
    "### Ciclo 2 - Novos desafios"
   ]
  },
  {
   "cell_type": "markdown",
   "id": "de8c8841",
   "metadata": {
    "heading_collapsed": true
   },
   "source": [
    "#### 3.4.1 Questionamentos"
   ]
  },
  {
   "cell_type": "markdown",
   "id": "c82e4fdf",
   "metadata": {
    "hidden": true
   },
   "source": [
    "    1. Qual a data do imóvel mais antigo no portfólio?\n",
    "    2. Quantos imóveis possuem o número máximo de andares?\n",
    "    3. Criar uma classificação para os imóveis, separando-os entre baixo e alto padrão de acordo com o preço:\n",
    "        Alto padrão: preço > R$540.000\n",
    "        Baixo padrão: preço < R$540.000\n",
    "        \n",
    "    4. Criar um relatório ordenado pelo preço e contendo as seguintes informações:\n",
    "        id do imóvel, data que o imóvel entrou no portfólio, número de quartos, tamanho total do terreno, preço e \n",
    "        classificação do imóvel"
   ]
  },
  {
   "cell_type": "markdown",
   "id": "f6c6a536",
   "metadata": {
    "heading_collapsed": true
   },
   "source": [
    "#### 3.4.2 Planejamento"
   ]
  },
  {
   "cell_type": "markdown",
   "id": "0b6041c1",
   "metadata": {
    "hidden": true
   },
   "source": [
    "1. Produto final: Email respondendo as perguntas com dois anexos (relatório em .csv e imagem de um mapa em html)\n",
    "\n",
    "2. Ferramentas: Python e Jupyter Notebook\n",
    "\n",
    "3. Processo:\n",
    "    1. Qual a data do imóvel mais antigo no portfólio?\n",
    "       Ordernar o set de dados por data\n",
    "    \n",
    "    2. Quantos imóveis possuem o número máximo de andares?\n",
    "       Identificar o maior número de andares e filtrar os imóveis com esta quantidade\n",
    "     \n",
    "    3. Criar uma classificação para os imóveis, separando-os entre baixo e alto padrão de acordo com o preço:\n",
    "    \n",
    "        Alto padrão: preço > R$540.000\n",
    "        \n",
    "        Baixo padrão: preço < R$540.000\n",
    "            \n",
    "        Adicionar uma coluna de classificação adicionando o label Alto ou Baixo de acordo com o preço  \n",
    "\n",
    "\n",
    "    4. Criar um relatório ordenado pelo preço e contendo as seguintes informações:\n",
    "        id do imóvel, data que o imóvel entrou no portfólio, número de quartos, tamanho total do terreno, preço e \n",
    "        classificação do imóvel\n",
    "       Criar um dataframe com as colunas solicitadas e exportar para .csv \n",
    "        \n",
    "    5. Criar um mapa indicando a localização dos imóveis.\n",
    "       Utilizar biblioteca para desenhar o mapa e adicionar os imóveis"
   ]
  },
  {
   "cell_type": "markdown",
   "id": "24f0874c",
   "metadata": {
    "heading_collapsed": true
   },
   "source": [
    "#### 3.4.3 Solução"
   ]
  },
  {
   "cell_type": "code",
   "execution_count": 29,
   "id": "c109c37d",
   "metadata": {
    "hidden": true
   },
   "outputs": [
    {
     "name": "stdout",
     "output_type": "stream",
     "text": [
      "A data do imóvel mais antigo é 02/05/2014\n"
     ]
    }
   ],
   "source": [
    "#Qual a data do imóvel mais antigo no portfólio?\n",
    "#Ordernar o set de dados por data\n",
    "\n",
    "df_raw['date'] = df_raw['date'].astype({'date':'datetime64[ns]'})\n",
    "date = df_raw['date'].min().strftime('%d/%m/%Y')\n",
    "\n",
    "print('A data do imóvel mais antigo é '+date)"
   ]
  },
  {
   "cell_type": "code",
   "execution_count": 38,
   "id": "b10fcc29",
   "metadata": {
    "hidden": true
   },
   "outputs": [
    {
     "name": "stdout",
     "output_type": "stream",
     "text": [
      "Há 8 quartos com o número máximo de quartos de 3.5\n"
     ]
    }
   ],
   "source": [
    "#Quantos imóveis possuem o número máximo de andares? \n",
    "#Identificar o maior número de andares e filtrar os imóveis com esta quantidade\n",
    "\n",
    "max_floor = df_raw['floors'].max()\n",
    "num = len(df_raw[df_raw['floors'] == max_floor])\n",
    "\n",
    "print('Há ' + str(num) + ' quartos com o número máximo de quartos de ' + str(max_floor) )"
   ]
  },
  {
   "cell_type": "code",
   "execution_count": 39,
   "id": "6c618107",
   "metadata": {
    "hidden": true
   },
   "outputs": [],
   "source": [
    "#Criar uma classificação para os imóveis, separando-os entre baixo e alto padrão de acordo com o preço:\n",
    "   #Alto padrão: preço > R$540.000\n",
    "   #Baixo padrão: preço < R$540.000\n",
    "\n",
    "#Adicionar uma coluna de classificação adicionando o label Alto ou Baixo de acordo com o preço\n",
    "\n",
    "\n",
    "df_raw['level'] = df_raw['price'].apply(lambda x: 'high' if x > 540000 else 'low') "
   ]
  },
  {
   "cell_type": "code",
   "execution_count": 42,
   "id": "5d73f9c8",
   "metadata": {
    "hidden": true
   },
   "outputs": [],
   "source": [
    "#Criar um relatório ordenado pelo preço e contendo as seguintes informações:\n",
    "#    id do imóvel, data que o imóvel entrou no portfólio, número de quartos, tamanho total do terreno, preço e \n",
    "#   classificação do imóvel\n",
    "\n",
    "#Criar um dataframe com as colunas solicitadas e exportar para .csv\n",
    "\n",
    "report = df_raw[['id','date','bedrooms','sqft_lot','price','level']]\n",
    "report.to_csv('report.csv')"
   ]
  },
  {
   "cell_type": "markdown",
   "id": "1ef69d4d",
   "metadata": {},
   "source": [
    "### Ciclo 3 - Novos desafios"
   ]
  },
  {
   "cell_type": "code",
   "execution_count": 52,
   "id": "c5269641",
   "metadata": {},
   "outputs": [
    {
     "ename": "KeyError",
     "evalue": "\"['sqft_living15', 'sqft_lot1'] not found in axis\"",
     "output_type": "error",
     "traceback": [
      "\u001b[0;31m---------------------------------------------------------------------------\u001b[0m",
      "\u001b[0;31mKeyError\u001b[0m                                  Traceback (most recent call last)",
      "Input \u001b[0;32mIn [52]\u001b[0m, in \u001b[0;36m<cell line: 3>\u001b[0;34m()\u001b[0m\n\u001b[1;32m      1\u001b[0m \u001b[38;5;66;03m#Excluir as colunas 'sqft_living15' e 'sqft_lot15'\u001b[39;00m\n\u001b[0;32m----> 3\u001b[0m \u001b[43mdf_raw\u001b[49m\u001b[38;5;241;43m.\u001b[39;49m\u001b[43mdrop\u001b[49m\u001b[43m(\u001b[49m\u001b[43m[\u001b[49m\u001b[38;5;124;43m'\u001b[39;49m\u001b[38;5;124;43msqft_living15\u001b[39;49m\u001b[38;5;124;43m'\u001b[39;49m\u001b[43m,\u001b[49m\u001b[38;5;124;43m'\u001b[39;49m\u001b[38;5;124;43msqft_lot1\u001b[39;49m\u001b[38;5;124;43m'\u001b[39;49m\u001b[43m]\u001b[49m\u001b[43m,\u001b[49m\u001b[43m \u001b[49m\u001b[43maxis\u001b[49m\u001b[38;5;241;43m=\u001b[39;49m\u001b[38;5;241;43m1\u001b[39;49m\u001b[43m,\u001b[49m\u001b[43m \u001b[49m\u001b[43minplace\u001b[49m\u001b[38;5;241;43m=\u001b[39;49m\u001b[38;5;28;43;01mTrue\u001b[39;49;00m\u001b[43m)\u001b[49m\n",
      "File \u001b[0;32m~/.pyenv/versions/3.10.4/envs/zero_ds/lib/python3.10/site-packages/pandas/util/_decorators.py:311\u001b[0m, in \u001b[0;36mdeprecate_nonkeyword_arguments.<locals>.decorate.<locals>.wrapper\u001b[0;34m(*args, **kwargs)\u001b[0m\n\u001b[1;32m    305\u001b[0m \u001b[38;5;28;01mif\u001b[39;00m \u001b[38;5;28mlen\u001b[39m(args) \u001b[38;5;241m>\u001b[39m num_allow_args:\n\u001b[1;32m    306\u001b[0m     warnings\u001b[38;5;241m.\u001b[39mwarn(\n\u001b[1;32m    307\u001b[0m         msg\u001b[38;5;241m.\u001b[39mformat(arguments\u001b[38;5;241m=\u001b[39marguments),\n\u001b[1;32m    308\u001b[0m         \u001b[38;5;167;01mFutureWarning\u001b[39;00m,\n\u001b[1;32m    309\u001b[0m         stacklevel\u001b[38;5;241m=\u001b[39mstacklevel,\n\u001b[1;32m    310\u001b[0m     )\n\u001b[0;32m--> 311\u001b[0m \u001b[38;5;28;01mreturn\u001b[39;00m \u001b[43mfunc\u001b[49m\u001b[43m(\u001b[49m\u001b[38;5;241;43m*\u001b[39;49m\u001b[43margs\u001b[49m\u001b[43m,\u001b[49m\u001b[43m \u001b[49m\u001b[38;5;241;43m*\u001b[39;49m\u001b[38;5;241;43m*\u001b[39;49m\u001b[43mkwargs\u001b[49m\u001b[43m)\u001b[49m\n",
      "File \u001b[0;32m~/.pyenv/versions/3.10.4/envs/zero_ds/lib/python3.10/site-packages/pandas/core/frame.py:4954\u001b[0m, in \u001b[0;36mDataFrame.drop\u001b[0;34m(self, labels, axis, index, columns, level, inplace, errors)\u001b[0m\n\u001b[1;32m   4806\u001b[0m \u001b[38;5;129m@deprecate_nonkeyword_arguments\u001b[39m(version\u001b[38;5;241m=\u001b[39m\u001b[38;5;28;01mNone\u001b[39;00m, allowed_args\u001b[38;5;241m=\u001b[39m[\u001b[38;5;124m\"\u001b[39m\u001b[38;5;124mself\u001b[39m\u001b[38;5;124m\"\u001b[39m, \u001b[38;5;124m\"\u001b[39m\u001b[38;5;124mlabels\u001b[39m\u001b[38;5;124m\"\u001b[39m])\n\u001b[1;32m   4807\u001b[0m \u001b[38;5;28;01mdef\u001b[39;00m \u001b[38;5;21mdrop\u001b[39m(\n\u001b[1;32m   4808\u001b[0m     \u001b[38;5;28mself\u001b[39m,\n\u001b[0;32m   (...)\u001b[0m\n\u001b[1;32m   4815\u001b[0m     errors: \u001b[38;5;28mstr\u001b[39m \u001b[38;5;241m=\u001b[39m \u001b[38;5;124m\"\u001b[39m\u001b[38;5;124mraise\u001b[39m\u001b[38;5;124m\"\u001b[39m,\n\u001b[1;32m   4816\u001b[0m ):\n\u001b[1;32m   4817\u001b[0m     \u001b[38;5;124;03m\"\"\"\u001b[39;00m\n\u001b[1;32m   4818\u001b[0m \u001b[38;5;124;03m    Drop specified labels from rows or columns.\u001b[39;00m\n\u001b[1;32m   4819\u001b[0m \n\u001b[0;32m   (...)\u001b[0m\n\u001b[1;32m   4952\u001b[0m \u001b[38;5;124;03m            weight  1.0     0.8\u001b[39;00m\n\u001b[1;32m   4953\u001b[0m \u001b[38;5;124;03m    \"\"\"\u001b[39;00m\n\u001b[0;32m-> 4954\u001b[0m     \u001b[38;5;28;01mreturn\u001b[39;00m \u001b[38;5;28;43msuper\u001b[39;49m\u001b[43m(\u001b[49m\u001b[43m)\u001b[49m\u001b[38;5;241;43m.\u001b[39;49m\u001b[43mdrop\u001b[49m\u001b[43m(\u001b[49m\n\u001b[1;32m   4955\u001b[0m \u001b[43m        \u001b[49m\u001b[43mlabels\u001b[49m\u001b[38;5;241;43m=\u001b[39;49m\u001b[43mlabels\u001b[49m\u001b[43m,\u001b[49m\n\u001b[1;32m   4956\u001b[0m \u001b[43m        \u001b[49m\u001b[43maxis\u001b[49m\u001b[38;5;241;43m=\u001b[39;49m\u001b[43maxis\u001b[49m\u001b[43m,\u001b[49m\n\u001b[1;32m   4957\u001b[0m \u001b[43m        \u001b[49m\u001b[43mindex\u001b[49m\u001b[38;5;241;43m=\u001b[39;49m\u001b[43mindex\u001b[49m\u001b[43m,\u001b[49m\n\u001b[1;32m   4958\u001b[0m \u001b[43m        \u001b[49m\u001b[43mcolumns\u001b[49m\u001b[38;5;241;43m=\u001b[39;49m\u001b[43mcolumns\u001b[49m\u001b[43m,\u001b[49m\n\u001b[1;32m   4959\u001b[0m \u001b[43m        \u001b[49m\u001b[43mlevel\u001b[49m\u001b[38;5;241;43m=\u001b[39;49m\u001b[43mlevel\u001b[49m\u001b[43m,\u001b[49m\n\u001b[1;32m   4960\u001b[0m \u001b[43m        \u001b[49m\u001b[43minplace\u001b[49m\u001b[38;5;241;43m=\u001b[39;49m\u001b[43minplace\u001b[49m\u001b[43m,\u001b[49m\n\u001b[1;32m   4961\u001b[0m \u001b[43m        \u001b[49m\u001b[43merrors\u001b[49m\u001b[38;5;241;43m=\u001b[39;49m\u001b[43merrors\u001b[49m\u001b[43m,\u001b[49m\n\u001b[1;32m   4962\u001b[0m \u001b[43m    \u001b[49m\u001b[43m)\u001b[49m\n",
      "File \u001b[0;32m~/.pyenv/versions/3.10.4/envs/zero_ds/lib/python3.10/site-packages/pandas/core/generic.py:4267\u001b[0m, in \u001b[0;36mNDFrame.drop\u001b[0;34m(self, labels, axis, index, columns, level, inplace, errors)\u001b[0m\n\u001b[1;32m   4265\u001b[0m \u001b[38;5;28;01mfor\u001b[39;00m axis, labels \u001b[38;5;129;01min\u001b[39;00m axes\u001b[38;5;241m.\u001b[39mitems():\n\u001b[1;32m   4266\u001b[0m     \u001b[38;5;28;01mif\u001b[39;00m labels \u001b[38;5;129;01mis\u001b[39;00m \u001b[38;5;129;01mnot\u001b[39;00m \u001b[38;5;28;01mNone\u001b[39;00m:\n\u001b[0;32m-> 4267\u001b[0m         obj \u001b[38;5;241m=\u001b[39m \u001b[43mobj\u001b[49m\u001b[38;5;241;43m.\u001b[39;49m\u001b[43m_drop_axis\u001b[49m\u001b[43m(\u001b[49m\u001b[43mlabels\u001b[49m\u001b[43m,\u001b[49m\u001b[43m \u001b[49m\u001b[43maxis\u001b[49m\u001b[43m,\u001b[49m\u001b[43m \u001b[49m\u001b[43mlevel\u001b[49m\u001b[38;5;241;43m=\u001b[39;49m\u001b[43mlevel\u001b[49m\u001b[43m,\u001b[49m\u001b[43m \u001b[49m\u001b[43merrors\u001b[49m\u001b[38;5;241;43m=\u001b[39;49m\u001b[43merrors\u001b[49m\u001b[43m)\u001b[49m\n\u001b[1;32m   4269\u001b[0m \u001b[38;5;28;01mif\u001b[39;00m inplace:\n\u001b[1;32m   4270\u001b[0m     \u001b[38;5;28mself\u001b[39m\u001b[38;5;241m.\u001b[39m_update_inplace(obj)\n",
      "File \u001b[0;32m~/.pyenv/versions/3.10.4/envs/zero_ds/lib/python3.10/site-packages/pandas/core/generic.py:4311\u001b[0m, in \u001b[0;36mNDFrame._drop_axis\u001b[0;34m(self, labels, axis, level, errors, consolidate, only_slice)\u001b[0m\n\u001b[1;32m   4309\u001b[0m         new_axis \u001b[38;5;241m=\u001b[39m axis\u001b[38;5;241m.\u001b[39mdrop(labels, level\u001b[38;5;241m=\u001b[39mlevel, errors\u001b[38;5;241m=\u001b[39merrors)\n\u001b[1;32m   4310\u001b[0m     \u001b[38;5;28;01melse\u001b[39;00m:\n\u001b[0;32m-> 4311\u001b[0m         new_axis \u001b[38;5;241m=\u001b[39m \u001b[43maxis\u001b[49m\u001b[38;5;241;43m.\u001b[39;49m\u001b[43mdrop\u001b[49m\u001b[43m(\u001b[49m\u001b[43mlabels\u001b[49m\u001b[43m,\u001b[49m\u001b[43m \u001b[49m\u001b[43merrors\u001b[49m\u001b[38;5;241;43m=\u001b[39;49m\u001b[43merrors\u001b[49m\u001b[43m)\u001b[49m\n\u001b[1;32m   4312\u001b[0m     indexer \u001b[38;5;241m=\u001b[39m axis\u001b[38;5;241m.\u001b[39mget_indexer(new_axis)\n\u001b[1;32m   4314\u001b[0m \u001b[38;5;66;03m# Case for non-unique axis\u001b[39;00m\n\u001b[1;32m   4315\u001b[0m \u001b[38;5;28;01melse\u001b[39;00m:\n",
      "File \u001b[0;32m~/.pyenv/versions/3.10.4/envs/zero_ds/lib/python3.10/site-packages/pandas/core/indexes/base.py:6644\u001b[0m, in \u001b[0;36mIndex.drop\u001b[0;34m(self, labels, errors)\u001b[0m\n\u001b[1;32m   6642\u001b[0m \u001b[38;5;28;01mif\u001b[39;00m mask\u001b[38;5;241m.\u001b[39many():\n\u001b[1;32m   6643\u001b[0m     \u001b[38;5;28;01mif\u001b[39;00m errors \u001b[38;5;241m!=\u001b[39m \u001b[38;5;124m\"\u001b[39m\u001b[38;5;124mignore\u001b[39m\u001b[38;5;124m\"\u001b[39m:\n\u001b[0;32m-> 6644\u001b[0m         \u001b[38;5;28;01mraise\u001b[39;00m \u001b[38;5;167;01mKeyError\u001b[39;00m(\u001b[38;5;124mf\u001b[39m\u001b[38;5;124m\"\u001b[39m\u001b[38;5;132;01m{\u001b[39;00m\u001b[38;5;28mlist\u001b[39m(labels[mask])\u001b[38;5;132;01m}\u001b[39;00m\u001b[38;5;124m not found in axis\u001b[39m\u001b[38;5;124m\"\u001b[39m)\n\u001b[1;32m   6645\u001b[0m     indexer \u001b[38;5;241m=\u001b[39m indexer[\u001b[38;5;241m~\u001b[39mmask]\n\u001b[1;32m   6646\u001b[0m \u001b[38;5;28;01mreturn\u001b[39;00m \u001b[38;5;28mself\u001b[39m\u001b[38;5;241m.\u001b[39mdelete(indexer)\n",
      "\u001b[0;31mKeyError\u001b[0m: \"['sqft_living15', 'sqft_lot1'] not found in axis\""
     ]
    }
   ],
   "source": [
    "#Excluir as colunas 'sqft_living15' e 'sqft_lot15'\n",
    "\n",
    "df_raw.drop(['sqft_living15','sqft_lot1'], axis=1, inplace=True)"
   ]
  },
  {
   "cell_type": "code",
   "execution_count": null,
   "id": "718d452b",
   "metadata": {},
   "outputs": [],
   "source": [
    "#Criar uma coluna 'house_age':\n",
    "#  date > 2014-01-01: 'new_house'\n",
    "#  date > 2014-01-01: 'old_house'\n",
    "\n",
    "df_raw['house_age'] = df_raw['date'].apply(lambda x: 'new_house' if x <)"
   ]
  },
  {
   "cell_type": "code",
   "execution_count": 54,
   "id": "bc9d46a9",
   "metadata": {},
   "outputs": [
    {
     "data": {
      "text/plain": [
       "Index(['id', 'date', 'price', 'bedrooms', 'bathrooms', 'sqft_living',\n",
       "       'sqft_lot', 'floors', 'waterfront', 'view', 'condition', 'grade',\n",
       "       'sqft_above', 'sqft_basement', 'yr_built', 'yr_renovated', 'zipcode',\n",
       "       'lat', 'long', 'm2_living', 'level'],\n",
       "      dtype='object')"
      ]
     },
     "execution_count": 54,
     "metadata": {},
     "output_type": "execute_result"
    }
   ],
   "source": [
    "df_raw.columns\n"
   ]
  },
  {
   "cell_type": "code",
   "execution_count": null,
   "id": "a0a5d32b",
   "metadata": {},
   "outputs": [],
   "source": []
  }
 ],
 "metadata": {
  "kernelspec": {
   "display_name": "Python 3 (ipykernel)",
   "language": "python",
   "name": "python3"
  },
  "language_info": {
   "codemirror_mode": {
    "name": "ipython",
    "version": 3
   },
   "file_extension": ".py",
   "mimetype": "text/x-python",
   "name": "python",
   "nbconvert_exporter": "python",
   "pygments_lexer": "ipython3",
   "version": "3.10.4"
  },
  "toc": {
   "base_numbering": 1,
   "nav_menu": {},
   "number_sections": true,
   "sideBar": true,
   "skip_h1_title": false,
   "title_cell": "Table of Contents",
   "title_sidebar": "Contents",
   "toc_cell": false,
   "toc_position": {
    "height": "calc(100% - 180px)",
    "left": "10px",
    "top": "150px",
    "width": "190px"
   },
   "toc_section_display": true,
   "toc_window_display": false
  }
 },
 "nbformat": 4,
 "nbformat_minor": 5
}
